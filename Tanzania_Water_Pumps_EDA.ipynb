{
 "cells": [
  {
   "cell_type": "markdown",
   "metadata": {},
   "source": [
    "# Tanzania Water Pump- Exploratory Data Analysis (EDA)\n",
    "\n",
    "---\n",
    "\n"
   ]
  },
  {
   "cell_type": "markdown",
   "metadata": {},
   "source": [
    "Predict whether a pump is functional, functional needing repair, or non-functional using data from [Taarifa](http://taarifa.org/) and [Tanzania Ministry of Water](http://maji.go.tz/) based on a number of variables about what kind of pump is operating, when it was installed, and how it is managed. A proper understanding of which water pumps are likely to fail could optimize maintenance operations and more reliably provide Tanzanian citizens with potable water.\n",
    "\n",
    "This predictive modeling challenge comes from [DrivenData](https://www.drivendata.org/competitions/7/pump-it-up-data-mining-the-water-table/), an organization that helps non-profits by hosting data science competitions for social impact. A description of the features in this dataset can be found [here](https://www.drivendata.org/competitions/7/pump-it-up-data-mining-the-water-table/page/25/#features_list). The competition has open licensing: \"The data is available for use outside of DrivenData.\" The data was provided for a private Kaggle competition held as part of BloomTech's Data Science curriculum."
   ]
  },
  {
   "cell_type": "markdown",
   "metadata": {},
   "source": [
    "### Imports"
   ]
  },
  {
   "cell_type": "code",
   "execution_count": 10,
   "metadata": {},
   "outputs": [],
   "source": [
    "import numpy as np\n",
    "import pandas as pd\n",
    "\n",
    "import matplotlib.pyplot as plt\n",
    "import seaborn as sns\n",
    "\n",
    "from scipy.stats import chi2_contingency\n",
    "\n",
    "\n",
    "# from pandas_profiling import ProfileReport\n",
    "from sklearn.model_selection import train_test_split\n",
    "from sklearn.preprocessing import OrdinalEncoder, OneHotEncoder, StandardScaler\n",
    "from sklearn.ensemble import RandomForestClassifier, GradientBoostingClassifier\n",
    "from sklearn.tree import DecisionTreeClassifier\n",
    "from sklearn.pipeline import make_pipeline\n",
    "from sklearn.impute import SimpleImputer\n",
    "from sklearn.metrics import accuracy_score\n",
    "from sklearn.model_selection import cross_val_score, validation_curve\n",
    "from sklearn.model_selection import GridSearchCV, RandomizedSearchCV\n",
    "from sklearn.inspection import permutation_importance\n",
    "from xgboost import XGBClassifier\n",
    "pd.set_option('display.max_columns', None)\n",
    "\n"
   ]
  },
  {
   "cell_type": "markdown",
   "metadata": {},
   "source": [
    "### Load and Explore Data"
   ]
  },
  {
   "cell_type": "code",
   "execution_count": 28,
   "metadata": {},
   "outputs": [],
   "source": [
    "# Load .csv files as pandas dataframes, combining training features and target\n",
    "df = pd.merge(pd.read_csv('train_features.csv').set_index('id'),\n",
    "              pd.read_csv('train_labels.csv').set_index('id'),\n",
    "              on='id')\n",
    "\n",
    "X_test = pd.read_csv('test_features.csv')"
   ]
  },
  {
   "cell_type": "code",
   "execution_count": 12,
   "metadata": {},
   "outputs": [
    {
     "name": "stdout",
     "output_type": "stream",
     "text": [
      "(47520, 41) (11880, 40)\n"
     ]
    }
   ],
   "source": [
    "# View shape of dataframe\n",
    "print(df.shape, X_test.shape)"
   ]
  },
  {
   "cell_type": "code",
   "execution_count": 29,
   "metadata": {},
   "outputs": [
    {
     "data": {
      "text/html": [
       "<div>\n",
       "<style scoped>\n",
       "    .dataframe tbody tr th:only-of-type {\n",
       "        vertical-align: middle;\n",
       "    }\n",
       "\n",
       "    .dataframe tbody tr th {\n",
       "        vertical-align: top;\n",
       "    }\n",
       "\n",
       "    .dataframe thead th {\n",
       "        text-align: right;\n",
       "    }\n",
       "</style>\n",
       "<table border=\"1\" class=\"dataframe\">\n",
       "  <thead>\n",
       "    <tr style=\"text-align: right;\">\n",
       "      <th></th>\n",
       "      <th>amount_tsh</th>\n",
       "      <th>date_recorded</th>\n",
       "      <th>funder</th>\n",
       "      <th>gps_height</th>\n",
       "      <th>installer</th>\n",
       "      <th>longitude</th>\n",
       "      <th>latitude</th>\n",
       "      <th>wpt_name</th>\n",
       "      <th>num_private</th>\n",
       "      <th>basin</th>\n",
       "      <th>subvillage</th>\n",
       "      <th>region</th>\n",
       "      <th>region_code</th>\n",
       "      <th>district_code</th>\n",
       "      <th>lga</th>\n",
       "      <th>ward</th>\n",
       "      <th>population</th>\n",
       "      <th>public_meeting</th>\n",
       "      <th>recorded_by</th>\n",
       "      <th>scheme_management</th>\n",
       "      <th>scheme_name</th>\n",
       "      <th>permit</th>\n",
       "      <th>construction_year</th>\n",
       "      <th>extraction_type</th>\n",
       "      <th>extraction_type_group</th>\n",
       "      <th>extraction_type_class</th>\n",
       "      <th>management</th>\n",
       "      <th>management_group</th>\n",
       "      <th>payment</th>\n",
       "      <th>payment_type</th>\n",
       "      <th>water_quality</th>\n",
       "      <th>quality_group</th>\n",
       "      <th>quantity</th>\n",
       "      <th>quantity_group</th>\n",
       "      <th>source</th>\n",
       "      <th>source_type</th>\n",
       "      <th>source_class</th>\n",
       "      <th>waterpoint_type</th>\n",
       "      <th>waterpoint_type_group</th>\n",
       "      <th>status_group</th>\n",
       "    </tr>\n",
       "    <tr>\n",
       "      <th>id</th>\n",
       "      <th></th>\n",
       "      <th></th>\n",
       "      <th></th>\n",
       "      <th></th>\n",
       "      <th></th>\n",
       "      <th></th>\n",
       "      <th></th>\n",
       "      <th></th>\n",
       "      <th></th>\n",
       "      <th></th>\n",
       "      <th></th>\n",
       "      <th></th>\n",
       "      <th></th>\n",
       "      <th></th>\n",
       "      <th></th>\n",
       "      <th></th>\n",
       "      <th></th>\n",
       "      <th></th>\n",
       "      <th></th>\n",
       "      <th></th>\n",
       "      <th></th>\n",
       "      <th></th>\n",
       "      <th></th>\n",
       "      <th></th>\n",
       "      <th></th>\n",
       "      <th></th>\n",
       "      <th></th>\n",
       "      <th></th>\n",
       "      <th></th>\n",
       "      <th></th>\n",
       "      <th></th>\n",
       "      <th></th>\n",
       "      <th></th>\n",
       "      <th></th>\n",
       "      <th></th>\n",
       "      <th></th>\n",
       "      <th></th>\n",
       "      <th></th>\n",
       "      <th></th>\n",
       "      <th></th>\n",
       "    </tr>\n",
       "  </thead>\n",
       "  <tbody>\n",
       "    <tr>\n",
       "      <th>454</th>\n",
       "      <td>50.0</td>\n",
       "      <td>2013-02-27</td>\n",
       "      <td>Dmdd</td>\n",
       "      <td>2092</td>\n",
       "      <td>DMDD</td>\n",
       "      <td>35.426020</td>\n",
       "      <td>-4.227446</td>\n",
       "      <td>Narmo</td>\n",
       "      <td>0</td>\n",
       "      <td>Internal</td>\n",
       "      <td>Bashnet Kati</td>\n",
       "      <td>Manyara</td>\n",
       "      <td>21</td>\n",
       "      <td>1</td>\n",
       "      <td>Babati</td>\n",
       "      <td>Bashinet</td>\n",
       "      <td>160</td>\n",
       "      <td>True</td>\n",
       "      <td>GeoData Consultants Ltd</td>\n",
       "      <td>Water Board</td>\n",
       "      <td>NaN</td>\n",
       "      <td>True</td>\n",
       "      <td>1998</td>\n",
       "      <td>gravity</td>\n",
       "      <td>gravity</td>\n",
       "      <td>gravity</td>\n",
       "      <td>water board</td>\n",
       "      <td>user-group</td>\n",
       "      <td>pay per bucket</td>\n",
       "      <td>per bucket</td>\n",
       "      <td>soft</td>\n",
       "      <td>good</td>\n",
       "      <td>insufficient</td>\n",
       "      <td>insufficient</td>\n",
       "      <td>spring</td>\n",
       "      <td>spring</td>\n",
       "      <td>groundwater</td>\n",
       "      <td>communal standpipe</td>\n",
       "      <td>communal standpipe</td>\n",
       "      <td>functional</td>\n",
       "    </tr>\n",
       "    <tr>\n",
       "      <th>510</th>\n",
       "      <td>0.0</td>\n",
       "      <td>2011-03-17</td>\n",
       "      <td>Cmsr</td>\n",
       "      <td>0</td>\n",
       "      <td>Gove</td>\n",
       "      <td>35.510074</td>\n",
       "      <td>-5.724555</td>\n",
       "      <td>Lukali</td>\n",
       "      <td>0</td>\n",
       "      <td>Internal</td>\n",
       "      <td>Lukali</td>\n",
       "      <td>Dodoma</td>\n",
       "      <td>1</td>\n",
       "      <td>6</td>\n",
       "      <td>Bahi</td>\n",
       "      <td>Lamaiti</td>\n",
       "      <td>0</td>\n",
       "      <td>True</td>\n",
       "      <td>GeoData Consultants Ltd</td>\n",
       "      <td>VWC</td>\n",
       "      <td>NaN</td>\n",
       "      <td>True</td>\n",
       "      <td>0</td>\n",
       "      <td>india mark ii</td>\n",
       "      <td>india mark ii</td>\n",
       "      <td>handpump</td>\n",
       "      <td>vwc</td>\n",
       "      <td>user-group</td>\n",
       "      <td>never pay</td>\n",
       "      <td>never pay</td>\n",
       "      <td>soft</td>\n",
       "      <td>good</td>\n",
       "      <td>enough</td>\n",
       "      <td>enough</td>\n",
       "      <td>shallow well</td>\n",
       "      <td>shallow well</td>\n",
       "      <td>groundwater</td>\n",
       "      <td>hand pump</td>\n",
       "      <td>hand pump</td>\n",
       "      <td>functional</td>\n",
       "    </tr>\n",
       "    <tr>\n",
       "      <th>14146</th>\n",
       "      <td>0.0</td>\n",
       "      <td>2011-07-10</td>\n",
       "      <td>Kkkt</td>\n",
       "      <td>0</td>\n",
       "      <td>KKKT</td>\n",
       "      <td>32.499866</td>\n",
       "      <td>-9.081222</td>\n",
       "      <td>Mahakama</td>\n",
       "      <td>0</td>\n",
       "      <td>Lake Rukwa</td>\n",
       "      <td>Chawalikozi</td>\n",
       "      <td>Mbeya</td>\n",
       "      <td>12</td>\n",
       "      <td>6</td>\n",
       "      <td>Mbozi</td>\n",
       "      <td>Ndalambo</td>\n",
       "      <td>0</td>\n",
       "      <td>True</td>\n",
       "      <td>GeoData Consultants Ltd</td>\n",
       "      <td>VWC</td>\n",
       "      <td>NaN</td>\n",
       "      <td>False</td>\n",
       "      <td>0</td>\n",
       "      <td>other</td>\n",
       "      <td>other</td>\n",
       "      <td>other</td>\n",
       "      <td>vwc</td>\n",
       "      <td>user-group</td>\n",
       "      <td>never pay</td>\n",
       "      <td>never pay</td>\n",
       "      <td>soft</td>\n",
       "      <td>good</td>\n",
       "      <td>enough</td>\n",
       "      <td>enough</td>\n",
       "      <td>shallow well</td>\n",
       "      <td>shallow well</td>\n",
       "      <td>groundwater</td>\n",
       "      <td>other</td>\n",
       "      <td>other</td>\n",
       "      <td>non functional</td>\n",
       "    </tr>\n",
       "    <tr>\n",
       "      <th>47410</th>\n",
       "      <td>0.0</td>\n",
       "      <td>2011-04-12</td>\n",
       "      <td>NaN</td>\n",
       "      <td>0</td>\n",
       "      <td>NaN</td>\n",
       "      <td>34.060484</td>\n",
       "      <td>-8.830208</td>\n",
       "      <td>Shule Ya Msingi Chosi A</td>\n",
       "      <td>0</td>\n",
       "      <td>Rufiji</td>\n",
       "      <td>Shuleni</td>\n",
       "      <td>Mbeya</td>\n",
       "      <td>12</td>\n",
       "      <td>7</td>\n",
       "      <td>Mbarali</td>\n",
       "      <td>Chimala</td>\n",
       "      <td>0</td>\n",
       "      <td>True</td>\n",
       "      <td>GeoData Consultants Ltd</td>\n",
       "      <td>VWC</td>\n",
       "      <td>NaN</td>\n",
       "      <td>True</td>\n",
       "      <td>0</td>\n",
       "      <td>gravity</td>\n",
       "      <td>gravity</td>\n",
       "      <td>gravity</td>\n",
       "      <td>vwc</td>\n",
       "      <td>user-group</td>\n",
       "      <td>pay monthly</td>\n",
       "      <td>monthly</td>\n",
       "      <td>soft</td>\n",
       "      <td>good</td>\n",
       "      <td>insufficient</td>\n",
       "      <td>insufficient</td>\n",
       "      <td>river</td>\n",
       "      <td>river/lake</td>\n",
       "      <td>surface</td>\n",
       "      <td>communal standpipe</td>\n",
       "      <td>communal standpipe</td>\n",
       "      <td>non functional</td>\n",
       "    </tr>\n",
       "    <tr>\n",
       "      <th>1288</th>\n",
       "      <td>300.0</td>\n",
       "      <td>2011-04-05</td>\n",
       "      <td>Ki</td>\n",
       "      <td>1023</td>\n",
       "      <td>Ki</td>\n",
       "      <td>37.032690</td>\n",
       "      <td>-6.040787</td>\n",
       "      <td>Kwa Mjowe</td>\n",
       "      <td>0</td>\n",
       "      <td>Wami / Ruvu</td>\n",
       "      <td>Ngholong</td>\n",
       "      <td>Morogoro</td>\n",
       "      <td>5</td>\n",
       "      <td>1</td>\n",
       "      <td>Kilosa</td>\n",
       "      <td>Chakwale</td>\n",
       "      <td>120</td>\n",
       "      <td>True</td>\n",
       "      <td>GeoData Consultants Ltd</td>\n",
       "      <td>VWC</td>\n",
       "      <td>NaN</td>\n",
       "      <td>True</td>\n",
       "      <td>1997</td>\n",
       "      <td>other</td>\n",
       "      <td>other</td>\n",
       "      <td>other</td>\n",
       "      <td>vwc</td>\n",
       "      <td>user-group</td>\n",
       "      <td>pay when scheme fails</td>\n",
       "      <td>on failure</td>\n",
       "      <td>salty</td>\n",
       "      <td>salty</td>\n",
       "      <td>enough</td>\n",
       "      <td>enough</td>\n",
       "      <td>shallow well</td>\n",
       "      <td>shallow well</td>\n",
       "      <td>groundwater</td>\n",
       "      <td>other</td>\n",
       "      <td>other</td>\n",
       "      <td>non functional</td>\n",
       "    </tr>\n",
       "  </tbody>\n",
       "</table>\n",
       "</div>"
      ],
      "text/plain": [
       "       amount_tsh date_recorded funder  gps_height installer  longitude  \\\n",
       "id                                                                        \n",
       "454          50.0    2013-02-27   Dmdd        2092      DMDD  35.426020   \n",
       "510           0.0    2011-03-17   Cmsr           0      Gove  35.510074   \n",
       "14146         0.0    2011-07-10   Kkkt           0      KKKT  32.499866   \n",
       "47410         0.0    2011-04-12    NaN           0       NaN  34.060484   \n",
       "1288        300.0    2011-04-05     Ki        1023        Ki  37.032690   \n",
       "\n",
       "       latitude                 wpt_name  num_private        basin  \\\n",
       "id                                                                   \n",
       "454   -4.227446                    Narmo            0     Internal   \n",
       "510   -5.724555                   Lukali            0     Internal   \n",
       "14146 -9.081222                 Mahakama            0   Lake Rukwa   \n",
       "47410 -8.830208  Shule Ya Msingi Chosi A            0       Rufiji   \n",
       "1288  -6.040787                Kwa Mjowe            0  Wami / Ruvu   \n",
       "\n",
       "         subvillage    region  region_code  district_code      lga      ward  \\\n",
       "id                                                                             \n",
       "454    Bashnet Kati   Manyara           21              1   Babati  Bashinet   \n",
       "510          Lukali    Dodoma            1              6     Bahi   Lamaiti   \n",
       "14146   Chawalikozi     Mbeya           12              6    Mbozi  Ndalambo   \n",
       "47410       Shuleni     Mbeya           12              7  Mbarali   Chimala   \n",
       "1288       Ngholong  Morogoro            5              1   Kilosa  Chakwale   \n",
       "\n",
       "       population public_meeting              recorded_by scheme_management  \\\n",
       "id                                                                            \n",
       "454           160           True  GeoData Consultants Ltd       Water Board   \n",
       "510             0           True  GeoData Consultants Ltd               VWC   \n",
       "14146           0           True  GeoData Consultants Ltd               VWC   \n",
       "47410           0           True  GeoData Consultants Ltd               VWC   \n",
       "1288          120           True  GeoData Consultants Ltd               VWC   \n",
       "\n",
       "      scheme_name permit  construction_year extraction_type  \\\n",
       "id                                                            \n",
       "454           NaN   True               1998         gravity   \n",
       "510           NaN   True                  0   india mark ii   \n",
       "14146         NaN  False                  0           other   \n",
       "47410         NaN   True                  0         gravity   \n",
       "1288          NaN   True               1997           other   \n",
       "\n",
       "      extraction_type_group extraction_type_class   management  \\\n",
       "id                                                               \n",
       "454                 gravity               gravity  water board   \n",
       "510           india mark ii              handpump          vwc   \n",
       "14146                 other                 other          vwc   \n",
       "47410               gravity               gravity          vwc   \n",
       "1288                  other                 other          vwc   \n",
       "\n",
       "      management_group                payment payment_type water_quality  \\\n",
       "id                                                                         \n",
       "454         user-group         pay per bucket   per bucket          soft   \n",
       "510         user-group              never pay    never pay          soft   \n",
       "14146       user-group              never pay    never pay          soft   \n",
       "47410       user-group            pay monthly      monthly          soft   \n",
       "1288        user-group  pay when scheme fails   on failure         salty   \n",
       "\n",
       "      quality_group      quantity quantity_group        source   source_type  \\\n",
       "id                                                                             \n",
       "454            good  insufficient   insufficient        spring        spring   \n",
       "510            good        enough         enough  shallow well  shallow well   \n",
       "14146          good        enough         enough  shallow well  shallow well   \n",
       "47410          good  insufficient   insufficient         river    river/lake   \n",
       "1288          salty        enough         enough  shallow well  shallow well   \n",
       "\n",
       "      source_class     waterpoint_type waterpoint_type_group    status_group  \n",
       "id                                                                            \n",
       "454    groundwater  communal standpipe    communal standpipe      functional  \n",
       "510    groundwater           hand pump             hand pump      functional  \n",
       "14146  groundwater               other                 other  non functional  \n",
       "47410      surface  communal standpipe    communal standpipe  non functional  \n",
       "1288   groundwater               other                 other  non functional  "
      ]
     },
     "execution_count": 29,
     "metadata": {},
     "output_type": "execute_result"
    }
   ],
   "source": [
    "# View first 5 rows of training dataframe\n",
    "df.head()"
   ]
  },
  {
   "cell_type": "code",
   "execution_count": 14,
   "metadata": {},
   "outputs": [
    {
     "name": "stdout",
     "output_type": "stream",
     "text": [
      "<class 'pandas.core.frame.DataFrame'>\n",
      "Int64Index: 47520 entries, 0 to 47519\n",
      "Data columns (total 41 columns):\n",
      " #   Column                 Non-Null Count  Dtype  \n",
      "---  ------                 --------------  -----  \n",
      " 0   id                     47520 non-null  int64  \n",
      " 1   amount_tsh             47520 non-null  float64\n",
      " 2   date_recorded          47520 non-null  object \n",
      " 3   funder                 44644 non-null  object \n",
      " 4   gps_height             47520 non-null  int64  \n",
      " 5   installer              44631 non-null  object \n",
      " 6   longitude              47520 non-null  float64\n",
      " 7   latitude               47520 non-null  float64\n",
      " 8   wpt_name               47520 non-null  object \n",
      " 9   num_private            47520 non-null  int64  \n",
      " 10  basin                  47520 non-null  object \n",
      " 11  subvillage             47224 non-null  object \n",
      " 12  region                 47520 non-null  object \n",
      " 13  region_code            47520 non-null  int64  \n",
      " 14  district_code          47520 non-null  int64  \n",
      " 15  lga                    47520 non-null  object \n",
      " 16  ward                   47520 non-null  object \n",
      " 17  population             47520 non-null  int64  \n",
      " 18  public_meeting         44831 non-null  object \n",
      " 19  recorded_by            47520 non-null  object \n",
      " 20  scheme_management      44418 non-null  object \n",
      " 21  scheme_name            24997 non-null  object \n",
      " 22  permit                 45081 non-null  object \n",
      " 23  construction_year      47520 non-null  int64  \n",
      " 24  extraction_type        47520 non-null  object \n",
      " 25  extraction_type_group  47520 non-null  object \n",
      " 26  extraction_type_class  47520 non-null  object \n",
      " 27  management             47520 non-null  object \n",
      " 28  management_group       47520 non-null  object \n",
      " 29  payment                47520 non-null  object \n",
      " 30  payment_type           47520 non-null  object \n",
      " 31  water_quality          47520 non-null  object \n",
      " 32  quality_group          47520 non-null  object \n",
      " 33  quantity               47520 non-null  object \n",
      " 34  quantity_group         47520 non-null  object \n",
      " 35  source                 47520 non-null  object \n",
      " 36  source_type            47520 non-null  object \n",
      " 37  source_class           47520 non-null  object \n",
      " 38  waterpoint_type        47520 non-null  object \n",
      " 39  waterpoint_type_group  47520 non-null  object \n",
      " 40  status_group           47520 non-null  object \n",
      "dtypes: float64(3), int64(7), object(31)\n",
      "memory usage: 15.2+ MB\n"
     ]
    }
   ],
   "source": [
    "# Preview info about datatypes and null values\n",
    "df.info()"
   ]
  },
  {
   "cell_type": "code",
   "execution_count": 15,
   "metadata": {},
   "outputs": [
    {
     "data": {
      "text/plain": [
       "id                           0\n",
       "amount_tsh                   0\n",
       "date_recorded                0\n",
       "funder                    2876\n",
       "gps_height                   0\n",
       "installer                 2889\n",
       "longitude                    0\n",
       "latitude                     0\n",
       "wpt_name                     0\n",
       "num_private                  0\n",
       "basin                        0\n",
       "subvillage                 296\n",
       "region                       0\n",
       "region_code                  0\n",
       "district_code                0\n",
       "lga                          0\n",
       "ward                         0\n",
       "population                   0\n",
       "public_meeting            2689\n",
       "recorded_by                  0\n",
       "scheme_management         3102\n",
       "scheme_name              22523\n",
       "permit                    2439\n",
       "construction_year            0\n",
       "extraction_type              0\n",
       "extraction_type_group        0\n",
       "extraction_type_class        0\n",
       "management                   0\n",
       "management_group             0\n",
       "payment                      0\n",
       "payment_type                 0\n",
       "water_quality                0\n",
       "quality_group                0\n",
       "quantity                     0\n",
       "quantity_group               0\n",
       "source                       0\n",
       "source_type                  0\n",
       "source_class                 0\n",
       "waterpoint_type              0\n",
       "waterpoint_type_group        0\n",
       "status_group                 0\n",
       "dtype: int64"
      ]
     },
     "execution_count": 15,
     "metadata": {},
     "output_type": "execute_result"
    }
   ],
   "source": [
    "# Check number of null values per column\n",
    "df.isnull().sum()"
   ]
  },
  {
   "cell_type": "code",
   "execution_count": 16,
   "metadata": {},
   "outputs": [
    {
     "data": {
      "text/html": [
       "<div>\n",
       "<style scoped>\n",
       "    .dataframe tbody tr th:only-of-type {\n",
       "        vertical-align: middle;\n",
       "    }\n",
       "\n",
       "    .dataframe tbody tr th {\n",
       "        vertical-align: top;\n",
       "    }\n",
       "\n",
       "    .dataframe thead th {\n",
       "        text-align: right;\n",
       "    }\n",
       "</style>\n",
       "<table border=\"1\" class=\"dataframe\">\n",
       "  <thead>\n",
       "    <tr style=\"text-align: right;\">\n",
       "      <th></th>\n",
       "      <th>id</th>\n",
       "      <th>amount_tsh</th>\n",
       "      <th>gps_height</th>\n",
       "      <th>longitude</th>\n",
       "      <th>latitude</th>\n",
       "      <th>num_private</th>\n",
       "      <th>region_code</th>\n",
       "      <th>district_code</th>\n",
       "      <th>population</th>\n",
       "      <th>construction_year</th>\n",
       "    </tr>\n",
       "  </thead>\n",
       "  <tbody>\n",
       "    <tr>\n",
       "      <th>count</th>\n",
       "      <td>47520.000000</td>\n",
       "      <td>47520.000000</td>\n",
       "      <td>47520.000000</td>\n",
       "      <td>47520.000000</td>\n",
       "      <td>4.752000e+04</td>\n",
       "      <td>47520.000000</td>\n",
       "      <td>47520.000000</td>\n",
       "      <td>47520.000000</td>\n",
       "      <td>47520.000000</td>\n",
       "      <td>47520.000000</td>\n",
       "    </tr>\n",
       "    <tr>\n",
       "      <th>mean</th>\n",
       "      <td>37114.486406</td>\n",
       "      <td>322.047573</td>\n",
       "      <td>668.745370</td>\n",
       "      <td>34.091316</td>\n",
       "      <td>-5.705002e+00</td>\n",
       "      <td>0.504566</td>\n",
       "      <td>15.326515</td>\n",
       "      <td>5.639310</td>\n",
       "      <td>179.528283</td>\n",
       "      <td>1303.353199</td>\n",
       "    </tr>\n",
       "    <tr>\n",
       "      <th>std</th>\n",
       "      <td>21445.765406</td>\n",
       "      <td>3200.623244</td>\n",
       "      <td>692.972153</td>\n",
       "      <td>6.538403</td>\n",
       "      <td>2.943503e+00</td>\n",
       "      <td>13.253850</td>\n",
       "      <td>17.618798</td>\n",
       "      <td>9.661285</td>\n",
       "      <td>472.772997</td>\n",
       "      <td>950.763878</td>\n",
       "    </tr>\n",
       "    <tr>\n",
       "      <th>min</th>\n",
       "      <td>0.000000</td>\n",
       "      <td>0.000000</td>\n",
       "      <td>-63.000000</td>\n",
       "      <td>0.000000</td>\n",
       "      <td>-1.164944e+01</td>\n",
       "      <td>0.000000</td>\n",
       "      <td>1.000000</td>\n",
       "      <td>0.000000</td>\n",
       "      <td>0.000000</td>\n",
       "      <td>0.000000</td>\n",
       "    </tr>\n",
       "    <tr>\n",
       "      <th>25%</th>\n",
       "      <td>18555.750000</td>\n",
       "      <td>0.000000</td>\n",
       "      <td>0.000000</td>\n",
       "      <td>33.084320</td>\n",
       "      <td>-8.532465e+00</td>\n",
       "      <td>0.000000</td>\n",
       "      <td>5.000000</td>\n",
       "      <td>2.000000</td>\n",
       "      <td>0.000000</td>\n",
       "      <td>0.000000</td>\n",
       "    </tr>\n",
       "    <tr>\n",
       "      <th>50%</th>\n",
       "      <td>37038.000000</td>\n",
       "      <td>0.000000</td>\n",
       "      <td>370.000000</td>\n",
       "      <td>34.911677</td>\n",
       "      <td>-5.017697e+00</td>\n",
       "      <td>0.000000</td>\n",
       "      <td>12.000000</td>\n",
       "      <td>3.000000</td>\n",
       "      <td>25.000000</td>\n",
       "      <td>1986.000000</td>\n",
       "    </tr>\n",
       "    <tr>\n",
       "      <th>75%</th>\n",
       "      <td>55666.250000</td>\n",
       "      <td>20.000000</td>\n",
       "      <td>1320.000000</td>\n",
       "      <td>37.180585</td>\n",
       "      <td>-3.326464e+00</td>\n",
       "      <td>0.000000</td>\n",
       "      <td>17.000000</td>\n",
       "      <td>5.000000</td>\n",
       "      <td>213.000000</td>\n",
       "      <td>2004.000000</td>\n",
       "    </tr>\n",
       "    <tr>\n",
       "      <th>max</th>\n",
       "      <td>74247.000000</td>\n",
       "      <td>350000.000000</td>\n",
       "      <td>2770.000000</td>\n",
       "      <td>40.345193</td>\n",
       "      <td>-2.000000e-08</td>\n",
       "      <td>1776.000000</td>\n",
       "      <td>99.000000</td>\n",
       "      <td>80.000000</td>\n",
       "      <td>30500.000000</td>\n",
       "      <td>2013.000000</td>\n",
       "    </tr>\n",
       "  </tbody>\n",
       "</table>\n",
       "</div>"
      ],
      "text/plain": [
       "                 id     amount_tsh    gps_height     longitude      latitude  \\\n",
       "count  47520.000000   47520.000000  47520.000000  47520.000000  4.752000e+04   \n",
       "mean   37114.486406     322.047573    668.745370     34.091316 -5.705002e+00   \n",
       "std    21445.765406    3200.623244    692.972153      6.538403  2.943503e+00   \n",
       "min        0.000000       0.000000    -63.000000      0.000000 -1.164944e+01   \n",
       "25%    18555.750000       0.000000      0.000000     33.084320 -8.532465e+00   \n",
       "50%    37038.000000       0.000000    370.000000     34.911677 -5.017697e+00   \n",
       "75%    55666.250000      20.000000   1320.000000     37.180585 -3.326464e+00   \n",
       "max    74247.000000  350000.000000   2770.000000     40.345193 -2.000000e-08   \n",
       "\n",
       "        num_private   region_code  district_code    population  \\\n",
       "count  47520.000000  47520.000000   47520.000000  47520.000000   \n",
       "mean       0.504566     15.326515       5.639310    179.528283   \n",
       "std       13.253850     17.618798       9.661285    472.772997   \n",
       "min        0.000000      1.000000       0.000000      0.000000   \n",
       "25%        0.000000      5.000000       2.000000      0.000000   \n",
       "50%        0.000000     12.000000       3.000000     25.000000   \n",
       "75%        0.000000     17.000000       5.000000    213.000000   \n",
       "max     1776.000000     99.000000      80.000000  30500.000000   \n",
       "\n",
       "       construction_year  \n",
       "count       47520.000000  \n",
       "mean         1303.353199  \n",
       "std           950.763878  \n",
       "min             0.000000  \n",
       "25%             0.000000  \n",
       "50%          1986.000000  \n",
       "75%          2004.000000  \n",
       "max          2013.000000  "
      ]
     },
     "execution_count": 16,
     "metadata": {},
     "output_type": "execute_result"
    }
   ],
   "source": [
    "# View basic descriptive statistics for numeric columns\n",
    "df.describe()"
   ]
  },
  {
   "cell_type": "code",
   "execution_count": 17,
   "metadata": {},
   "outputs": [
    {
     "data": {
      "text/plain": [
       "id                       47520\n",
       "amount_tsh                  96\n",
       "date_recorded              351\n",
       "funder                    1698\n",
       "gps_height                2401\n",
       "installer                 1923\n",
       "longitude                46043\n",
       "latitude                 46044\n",
       "wpt_name                 30742\n",
       "num_private                 59\n",
       "basin                        9\n",
       "subvillage               17232\n",
       "region                      21\n",
       "region_code                 27\n",
       "district_code               20\n",
       "lga                        125\n",
       "ward                      2076\n",
       "population                 971\n",
       "public_meeting               2\n",
       "recorded_by                  1\n",
       "scheme_management           12\n",
       "scheme_name               2541\n",
       "permit                       2\n",
       "construction_year           55\n",
       "extraction_type             18\n",
       "extraction_type_group       13\n",
       "extraction_type_class        7\n",
       "management                  12\n",
       "management_group             5\n",
       "payment                      7\n",
       "payment_type                 7\n",
       "water_quality                8\n",
       "quality_group                6\n",
       "quantity                     5\n",
       "quantity_group               5\n",
       "source                      10\n",
       "source_type                  7\n",
       "source_class                 3\n",
       "waterpoint_type              7\n",
       "waterpoint_type_group        6\n",
       "status_group                 3\n",
       "dtype: int64"
      ]
     },
     "execution_count": 17,
     "metadata": {},
     "output_type": "execute_result"
    }
   ],
   "source": [
    "# Number of unique values per column\n",
    "df.nunique()"
   ]
  },
  {
   "cell_type": "markdown",
   "metadata": {},
   "source": [
    "### Data Cleaning\n",
    "After initial exploration of the data, a number of necessary adjustments need to be made:\n",
    "- Adjust datatypes\n",
    "  - Convert `'date_recorded'` and `'construction_year'` to datetime\n",
    "  - Convert `'public_meeting'` and `'permit'` to boolean\n",
    "- Manage null values \n",
    "- There are a number of apparently redundant columns:\n",
    "   - `'region'` and `'region_code'`\n",
    "   - `''`\n",
    "- High cardinality features\n",
    "- Other\n",
    "  - Remove constant column 'recorded_by'\n",
    "  - Plot by lat and long"
   ]
  },
  {
   "cell_type": "markdown",
   "metadata": {},
   "source": [
    "#### Convert Datatypes"
   ]
  },
  {
   "cell_type": "code",
   "execution_count": 54,
   "metadata": {},
   "outputs": [
    {
     "data": {
      "text/plain": [
       "str"
      ]
     },
     "execution_count": 54,
     "metadata": {},
     "output_type": "execute_result"
    }
   ],
   "source": []
  },
  {
   "cell_type": "markdown",
   "metadata": {},
   "source": [
    "#### Manage Null Values"
   ]
  },
  {
   "cell_type": "code",
   "execution_count": 43,
   "metadata": {},
   "outputs": [
    {
     "data": {
      "text/plain": [
       "funder                2876\n",
       "installer             2889\n",
       "subvillage             296\n",
       "public_meeting        2689\n",
       "scheme_management     3102\n",
       "scheme_name          22523\n",
       "permit                2439\n",
       "dtype: int64"
      ]
     },
     "execution_count": 43,
     "metadata": {},
     "output_type": "execute_result"
    }
   ],
   "source": [
    "null_counts = df.isnull().sum()\n",
    "null_series = null_counts[null_counts > 0]\n",
    "null_series"
   ]
  },
  {
   "cell_type": "code",
   "execution_count": 49,
   "metadata": {},
   "outputs": [
    {
     "data": {
      "text/plain": [
       "funder                6.05\n",
       "installer             6.08\n",
       "subvillage            0.62\n",
       "public_meeting        5.66\n",
       "scheme_management     6.53\n",
       "scheme_name          47.40\n",
       "permit                5.13\n",
       "dtype: float64"
      ]
     },
     "execution_count": 49,
     "metadata": {},
     "output_type": "execute_result"
    }
   ],
   "source": [
    "percent_nulls = round(null_series / len(df) * 100, 2)\n",
    "percent_nulls"
   ]
  },
  {
   "cell_type": "markdown",
   "metadata": {},
   "source": [
    "We will remove `'scheme_name'` because almost 50% of the data is missing."
   ]
  },
  {
   "cell_type": "code",
   "execution_count": 50,
   "metadata": {},
   "outputs": [],
   "source": [
    "df.drop(columns='scheme_name', inplace=True)"
   ]
  },
  {
   "cell_type": "markdown",
   "metadata": {},
   "source": [
    "#### Remove duplicate columns"
   ]
  },
  {
   "cell_type": "markdown",
   "metadata": {},
   "source": [
    "#### Handle high-cardinality categorical features"
   ]
  },
  {
   "cell_type": "markdown",
   "metadata": {},
   "source": [
    "#### Plot Geographic Coordinates"
   ]
  },
  {
   "cell_type": "code",
   "execution_count": 18,
   "metadata": {},
   "outputs": [
    {
     "data": {
      "image/png": "[encoded data removed]",
      "text/plain": [
       "<Figure size 432x288 with 1 Axes>"
      ]
     },
     "metadata": {
      "needs_background": "light"
     },
     "output_type": "display_data"
    }
   ],
   "source": [
    "# View coordinate plot of water pumps\n",
    "df.plot(\"longitude\", \"latitude\", kind=\"scatter\")\n",
    "plt.title(\"Geographic Coordinates\");"
   ]
  },
  {
   "cell_type": "markdown",
   "metadata": {},
   "source": [
    "There appear to be null values that were recorded as (0, 0), but we will check their values before dropping them from our plot"
   ]
  },
  {
   "cell_type": "code",
   "execution_count": 19,
   "metadata": {},
   "outputs": [
    {
     "name": "stdout",
     "output_type": "stream",
     "text": [
      "Minimum longitude: 0.0,\n",
      "    Maximum latitude: -2e-08\n"
     ]
    }
   ],
   "source": [
    "print(f\"\"\"Minimum longitude: {df['longitude'].min()},\n",
    "    Maximum latitude: {df['latitude'].max()}\"\"\")"
   ]
  },
  {
   "cell_type": "code",
   "execution_count": 21,
   "metadata": {},
   "outputs": [],
   "source": [
    "long = df[\"longitude\"][df[\"longitude\"] > 0]\n",
    "lat = df[\"latitude\"][df[\"latitude\"] < df[\"latitude\"].max()]"
   ]
  },
  {
   "cell_type": "code",
   "execution_count": 23,
   "metadata": {},
   "outputs": [
    {
     "data": {
      "image/png": "[encoded data removed]",
      "text/plain": [
       "<Figure size 432x288 with 1 Axes>"
      ]
     },
     "metadata": {
      "needs_background": "light"
     },
     "output_type": "display_data"
    }
   ],
   "source": [
    "plt.scatter(long, lat)\n",
    "plt.title(\"Tanzania Water Pumps- Geographic Coordinates\");"
   ]
  },
  {
   "cell_type": "markdown",
   "metadata": {},
   "source": [
    "#### Remove constant value column `'recorded_by'`"
   ]
  },
  {
   "cell_type": "code",
   "execution_count": 24,
   "metadata": {},
   "outputs": [],
   "source": [
    "df.drop(columns='recorded_by', inplace=True)"
   ]
  },
  {
   "cell_type": "markdown",
   "metadata": {},
   "source": [
    "### Feature Engineering\n",
    "\n",
    "`'pump_age'` = `'recorded_year'` - `'construction_year'`"
   ]
  },
  {
   "cell_type": "code",
   "execution_count": null,
   "metadata": {},
   "outputs": [],
   "source": []
  }
 ],
 "metadata": {
  "kernelspec": {
   "display_name": "Python 3.8.10 ('U2-ML': venv)",
   "language": "python",
   "name": "python3"
  },
  "language_info": {
   "codemirror_mode": {
    "name": "ipython",
    "version": 3
   },
   "file_extension": ".py",
   "mimetype": "text/x-python",
   "name": "python",
   "nbconvert_exporter": "python",
   "pygments_lexer": "ipython3",
   "version": "3.8.10"
  },
  "orig_nbformat": 4,
  "vscode": {
   "interpreter": {
    "hash": "f0465ebcb37716cb48e7502240deaccee8cfa6fc7eb7ef0195569c351e696f5d"
   }
  }
 },
 "nbformat": 4,
 "nbformat_minor": 2
}
