{
 "cells": [
  {
   "cell_type": "markdown",
   "metadata": {},
   "source": [
    "# Tanzania Water Pump- Machine Learning Analysis\n",
    "\n",
    "---\n",
    "\n",
    "### Explore several ML classification algorithms \n",
    "\n",
    "Predict whether a pump is functional, functional needing repair, or non-functional using data from [Taarifa](http://taarifa.org/) and [Tanzania Ministry of Water](http://maji.go.tz/) based on a number of variables about what kind of pump is operating, when it was installed, and how it is managed. A proper understanding of which water pumps are likely to fail could optimize maintenance operations and more reliably provide Tanzanian citizens with potable water.\n",
    "\n",
    "This predictive modeling challenge comes from [DrivenData](https://www.drivendata.org/competitions/7/pump-it-up-data-mining-the-water-table/), an organization that helps non-profits by hosting data science competitions for social impact. The competition has open licensing: \"The data is available for use outside of DrivenData.\" The data was provided for a private Kaggle competition held as part of BloomTech's Data Science curriculum."
   ]
  },
  {
   "cell_type": "markdown",
   "metadata": {},
   "source": [
    "### Imports"
   ]
  },
  {
   "cell_type": "code",
   "execution_count": 3,
   "metadata": {},
   "outputs": [],
   "source": [
    "import numpy as np\n",
    "import pandas as pd\n",
    "import matplotlib.pyplot as plt\n",
    "import seaborn as sns\n",
    "from scipy.stats import chi2_contingency\n",
    "\n",
    "from sklearn.model_selection import train_test_split\n",
    "from sklearn.preprocessing import OrdinalEncoder, OneHotEncoder, StandardScaler\n",
    "from sklearn.ensemble import RandomForestClassifier, GradientBoostingClassifier\n",
    "from sklearn.tree import DecisionTreeClassifier\n",
    "from sklearn.pipeline import make_pipeline\n",
    "from sklearn.impute import SimpleImputer\n",
    "from sklearn.metrics import accuracy_score\n",
    "from sklearn.model_selection import cross_val_score, validation_curve\n",
    "from sklearn.model_selection import GridSearchCV, RandomizedSearchCV\n",
    "from sklearn.inspection import permutation_importance\n",
    "from xgboost import XGBClassifier\n",
    "pd.set_option('display.max_columns', None)"
   ]
  },
  {
   "cell_type": "markdown",
   "metadata": {},
   "source": [
    "# I. Load and Clean Data\n",
    "Using the information and understanding obtained from the EDA notebook, a 'wrangle()' function was written to perform the same data cleaning operations on both the training and testing data. This will also allow us to reproduce our problem with new unseen data."
   ]
  },
  {
   "cell_type": "code",
   "execution_count": 4,
   "metadata": {},
   "outputs": [],
   "source": [
    "def wrangle(feature_path, target_path=None):\n",
    "    \"\"\"\n",
    "        This function loads and cleans data for feature matrix and target vector\n",
    "        csv files. The cleaning tasks include:\n",
    "\n",
    "            - Replace implicit nulls with NaN's\n",
    "            - Convert datatypes\n",
    "            - Remove unnecessary columns (duplicate, redundant, constant,\n",
    "              mostly null)\n",
    "            - Remove high-cardinality categorical features\n",
    "        \n",
    "        Parameters\n",
    "        ----------\n",
    "        feature_path (str): pathway to feature matrix csv file\n",
    "        target_path (str): pathway to target vector csv file\n",
    "\n",
    "        Returns\n",
    "        -------\n",
    "        DataFrame\n",
    "    \"\"\"\n",
    "\n",
    "    if target_path:\n",
    "        df = pd.merge(pd.read_csv(feature_path,\n",
    "                                  parse_dates=['date_recorded']),\n",
    "                      pd.read_csv(target_path)).set_index('id')\n",
    "\n",
    "    else:\n",
    "        df = pd.read_csv(feature_path,\n",
    "                         parse_dates=['date_recorded'],\n",
    "                         index_col='id')\n",
    "\n",
    "    # Convert implicit nulls to nan's\n",
    "    df['longitude'].replace(0, np.nan, inplace=True)\n",
    "    df['latitude'].replace(-2e-08, np.nan, inplace=True)\n",
    "    df['construction_year'].replace(0, np.nan, inplace=True)\n",
    "\n",
    "    # Convert datatypes\n",
    "    df['public_meeting'] = df['public_meeting'].astype('bool')\n",
    "    df['permit'] = df['permit'].astype('bool')\n",
    "\n",
    "    # Remove unnecessary columns\n",
    "    df.drop(columns=['num_private',\n",
    "                     'region_code',\n",
    "                     'district_code',\n",
    "                     'recorded_by',\n",
    "                     'scheme_management',\n",
    "                     'scheme_name',\n",
    "                     'extraction_type_group',\n",
    "                     'extraction_type_class',\n",
    "                     'payment_type',\n",
    "                     'quality_group',\n",
    "                     'quantity_group',\n",
    "                     'source',\n",
    "                     'source_class',\n",
    "                     'waterpoint_type_group'], inplace=True)\n",
    "\n",
    "    # Remove HCCCs (columns with over 100 different categories)\n",
    "    cutoff = 100\n",
    "    drop_cols = [col for col in df.select_dtypes('object').columns \n",
    "                if df[col].nunique() > cutoff]\n",
    "    df.drop(columns=drop_cols, inplace=True)\n",
    "\n",
    "    # Create age feature\n",
    "    df['pump_age'] = df['date_recorded'].dt.year - df['construction_year']\n",
    "    df.drop(columns='date_recorded', inplace=True)\n",
    "\n",
    "\n",
    "    return df\n",
    "                     "
   ]
  },
  {
   "cell_type": "code",
   "execution_count": 5,
   "metadata": {},
   "outputs": [],
   "source": [
    "# Load data\n",
    "df = wrangle(feature_path='train_features.csv',\n",
    "             target_path='train_labels.csv')"
   ]
  },
  {
   "cell_type": "markdown",
   "metadata": {},
   "source": [
    "### Further EDA"
   ]
  },
  {
   "cell_type": "code",
   "execution_count": 6,
   "metadata": {},
   "outputs": [
    {
     "data": {
      "text/html": [
       "<div>\n",
       "<style scoped>\n",
       "    .dataframe tbody tr th:only-of-type {\n",
       "        vertical-align: middle;\n",
       "    }\n",
       "\n",
       "    .dataframe tbody tr th {\n",
       "        vertical-align: top;\n",
       "    }\n",
       "\n",
       "    .dataframe thead th {\n",
       "        text-align: right;\n",
       "    }\n",
       "</style>\n",
       "<table border=\"1\" class=\"dataframe\">\n",
       "  <thead>\n",
       "    <tr style=\"text-align: right;\">\n",
       "      <th></th>\n",
       "      <th>amount_tsh</th>\n",
       "      <th>gps_height</th>\n",
       "      <th>longitude</th>\n",
       "      <th>latitude</th>\n",
       "      <th>basin</th>\n",
       "      <th>region</th>\n",
       "      <th>population</th>\n",
       "      <th>public_meeting</th>\n",
       "      <th>permit</th>\n",
       "      <th>construction_year</th>\n",
       "      <th>extraction_type</th>\n",
       "      <th>management</th>\n",
       "      <th>management_group</th>\n",
       "      <th>payment</th>\n",
       "      <th>water_quality</th>\n",
       "      <th>quantity</th>\n",
       "      <th>source_type</th>\n",
       "      <th>waterpoint_type</th>\n",
       "      <th>status_group</th>\n",
       "      <th>pump_age</th>\n",
       "    </tr>\n",
       "    <tr>\n",
       "      <th>id</th>\n",
       "      <th></th>\n",
       "      <th></th>\n",
       "      <th></th>\n",
       "      <th></th>\n",
       "      <th></th>\n",
       "      <th></th>\n",
       "      <th></th>\n",
       "      <th></th>\n",
       "      <th></th>\n",
       "      <th></th>\n",
       "      <th></th>\n",
       "      <th></th>\n",
       "      <th></th>\n",
       "      <th></th>\n",
       "      <th></th>\n",
       "      <th></th>\n",
       "      <th></th>\n",
       "      <th></th>\n",
       "      <th></th>\n",
       "      <th></th>\n",
       "    </tr>\n",
       "  </thead>\n",
       "  <tbody>\n",
       "    <tr>\n",
       "      <th>454</th>\n",
       "      <td>50.0</td>\n",
       "      <td>2092</td>\n",
       "      <td>35.426020</td>\n",
       "      <td>-4.227446</td>\n",
       "      <td>Internal</td>\n",
       "      <td>Manyara</td>\n",
       "      <td>160</td>\n",
       "      <td>True</td>\n",
       "      <td>True</td>\n",
       "      <td>1998.0</td>\n",
       "      <td>gravity</td>\n",
       "      <td>water board</td>\n",
       "      <td>user-group</td>\n",
       "      <td>pay per bucket</td>\n",
       "      <td>soft</td>\n",
       "      <td>insufficient</td>\n",
       "      <td>spring</td>\n",
       "      <td>communal standpipe</td>\n",
       "      <td>functional</td>\n",
       "      <td>15.0</td>\n",
       "    </tr>\n",
       "    <tr>\n",
       "      <th>510</th>\n",
       "      <td>0.0</td>\n",
       "      <td>0</td>\n",
       "      <td>35.510074</td>\n",
       "      <td>-5.724555</td>\n",
       "      <td>Internal</td>\n",
       "      <td>Dodoma</td>\n",
       "      <td>0</td>\n",
       "      <td>True</td>\n",
       "      <td>True</td>\n",
       "      <td>NaN</td>\n",
       "      <td>india mark ii</td>\n",
       "      <td>vwc</td>\n",
       "      <td>user-group</td>\n",
       "      <td>never pay</td>\n",
       "      <td>soft</td>\n",
       "      <td>enough</td>\n",
       "      <td>shallow well</td>\n",
       "      <td>hand pump</td>\n",
       "      <td>functional</td>\n",
       "      <td>NaN</td>\n",
       "    </tr>\n",
       "    <tr>\n",
       "      <th>14146</th>\n",
       "      <td>0.0</td>\n",
       "      <td>0</td>\n",
       "      <td>32.499866</td>\n",
       "      <td>-9.081222</td>\n",
       "      <td>Lake Rukwa</td>\n",
       "      <td>Mbeya</td>\n",
       "      <td>0</td>\n",
       "      <td>True</td>\n",
       "      <td>False</td>\n",
       "      <td>NaN</td>\n",
       "      <td>other</td>\n",
       "      <td>vwc</td>\n",
       "      <td>user-group</td>\n",
       "      <td>never pay</td>\n",
       "      <td>soft</td>\n",
       "      <td>enough</td>\n",
       "      <td>shallow well</td>\n",
       "      <td>other</td>\n",
       "      <td>non functional</td>\n",
       "      <td>NaN</td>\n",
       "    </tr>\n",
       "    <tr>\n",
       "      <th>47410</th>\n",
       "      <td>0.0</td>\n",
       "      <td>0</td>\n",
       "      <td>34.060484</td>\n",
       "      <td>-8.830208</td>\n",
       "      <td>Rufiji</td>\n",
       "      <td>Mbeya</td>\n",
       "      <td>0</td>\n",
       "      <td>True</td>\n",
       "      <td>True</td>\n",
       "      <td>NaN</td>\n",
       "      <td>gravity</td>\n",
       "      <td>vwc</td>\n",
       "      <td>user-group</td>\n",
       "      <td>pay monthly</td>\n",
       "      <td>soft</td>\n",
       "      <td>insufficient</td>\n",
       "      <td>river/lake</td>\n",
       "      <td>communal standpipe</td>\n",
       "      <td>non functional</td>\n",
       "      <td>NaN</td>\n",
       "    </tr>\n",
       "    <tr>\n",
       "      <th>1288</th>\n",
       "      <td>300.0</td>\n",
       "      <td>1023</td>\n",
       "      <td>37.032690</td>\n",
       "      <td>-6.040787</td>\n",
       "      <td>Wami / Ruvu</td>\n",
       "      <td>Morogoro</td>\n",
       "      <td>120</td>\n",
       "      <td>True</td>\n",
       "      <td>True</td>\n",
       "      <td>1997.0</td>\n",
       "      <td>other</td>\n",
       "      <td>vwc</td>\n",
       "      <td>user-group</td>\n",
       "      <td>pay when scheme fails</td>\n",
       "      <td>salty</td>\n",
       "      <td>enough</td>\n",
       "      <td>shallow well</td>\n",
       "      <td>other</td>\n",
       "      <td>non functional</td>\n",
       "      <td>14.0</td>\n",
       "    </tr>\n",
       "  </tbody>\n",
       "</table>\n",
       "</div>"
      ],
      "text/plain": [
       "       amount_tsh  gps_height  longitude  latitude        basin    region  \\\n",
       "id                                                                          \n",
       "454          50.0        2092  35.426020 -4.227446     Internal   Manyara   \n",
       "510           0.0           0  35.510074 -5.724555     Internal    Dodoma   \n",
       "14146         0.0           0  32.499866 -9.081222   Lake Rukwa     Mbeya   \n",
       "47410         0.0           0  34.060484 -8.830208       Rufiji     Mbeya   \n",
       "1288        300.0        1023  37.032690 -6.040787  Wami / Ruvu  Morogoro   \n",
       "\n",
       "       population  public_meeting  permit  construction_year extraction_type  \\\n",
       "id                                                                             \n",
       "454           160            True    True             1998.0         gravity   \n",
       "510             0            True    True                NaN   india mark ii   \n",
       "14146           0            True   False                NaN           other   \n",
       "47410           0            True    True                NaN         gravity   \n",
       "1288          120            True    True             1997.0           other   \n",
       "\n",
       "        management management_group                payment water_quality  \\\n",
       "id                                                                         \n",
       "454    water board       user-group         pay per bucket          soft   \n",
       "510            vwc       user-group              never pay          soft   \n",
       "14146          vwc       user-group              never pay          soft   \n",
       "47410          vwc       user-group            pay monthly          soft   \n",
       "1288           vwc       user-group  pay when scheme fails         salty   \n",
       "\n",
       "           quantity   source_type     waterpoint_type    status_group  \\\n",
       "id                                                                      \n",
       "454    insufficient        spring  communal standpipe      functional   \n",
       "510          enough  shallow well           hand pump      functional   \n",
       "14146        enough  shallow well               other  non functional   \n",
       "47410  insufficient    river/lake  communal standpipe  non functional   \n",
       "1288         enough  shallow well               other  non functional   \n",
       "\n",
       "       pump_age  \n",
       "id               \n",
       "454        15.0  \n",
       "510         NaN  \n",
       "14146       NaN  \n",
       "47410       NaN  \n",
       "1288       14.0  "
      ]
     },
     "metadata": {},
     "output_type": "display_data"
    }
   ],
   "source": [
    "# View first 5 rows of df and X_test\n",
    "display(df.head())"
   ]
  },
  {
   "cell_type": "code",
   "execution_count": 7,
   "metadata": {},
   "outputs": [
    {
     "name": "stdout",
     "output_type": "stream",
     "text": [
      "<class 'pandas.core.frame.DataFrame'>\n",
      "Int64Index: 47520 entries, 454 to 23812\n",
      "Data columns (total 20 columns):\n",
      " #   Column             Non-Null Count  Dtype  \n",
      "---  ------             --------------  -----  \n",
      " 0   amount_tsh         47520 non-null  float64\n",
      " 1   gps_height         47520 non-null  int64  \n",
      " 2   longitude          46087 non-null  float64\n",
      " 3   latitude           46087 non-null  float64\n",
      " 4   basin              47520 non-null  object \n",
      " 5   region             47520 non-null  object \n",
      " 6   population         47520 non-null  int64  \n",
      " 7   public_meeting     47520 non-null  bool   \n",
      " 8   permit             47520 non-null  bool   \n",
      " 9   construction_year  31017 non-null  float64\n",
      " 10  extraction_type    47520 non-null  object \n",
      " 11  management         47520 non-null  object \n",
      " 12  management_group   47520 non-null  object \n",
      " 13  payment            47520 non-null  object \n",
      " 14  water_quality      47520 non-null  object \n",
      " 15  quantity           47520 non-null  object \n",
      " 16  source_type        47520 non-null  object \n",
      " 17  waterpoint_type    47520 non-null  object \n",
      " 18  status_group       47520 non-null  object \n",
      " 19  pump_age           31017 non-null  float64\n",
      "dtypes: bool(2), float64(5), int64(2), object(11)\n",
      "memory usage: 7.0+ MB\n"
     ]
    }
   ],
   "source": [
    "df.info()"
   ]
  },
  {
   "cell_type": "code",
   "execution_count": 8,
   "metadata": {},
   "outputs": [
    {
     "data": {
      "text/plain": [
       "amount_tsh               0\n",
       "gps_height               0\n",
       "longitude             1433\n",
       "latitude              1433\n",
       "basin                    0\n",
       "region                   0\n",
       "population               0\n",
       "public_meeting           0\n",
       "permit                   0\n",
       "construction_year    16503\n",
       "extraction_type          0\n",
       "management               0\n",
       "management_group         0\n",
       "payment                  0\n",
       "water_quality            0\n",
       "quantity                 0\n",
       "source_type              0\n",
       "waterpoint_type          0\n",
       "status_group             0\n",
       "pump_age             16503\n",
       "dtype: int64"
      ]
     },
     "execution_count": 8,
     "metadata": {},
     "output_type": "execute_result"
    }
   ],
   "source": [
    "df.isnull().sum()"
   ]
  },
  {
   "cell_type": "code",
   "execution_count": 9,
   "metadata": {},
   "outputs": [
    {
     "data": {
      "text/html": [
       "<div>\n",
       "<style scoped>\n",
       "    .dataframe tbody tr th:only-of-type {\n",
       "        vertical-align: middle;\n",
       "    }\n",
       "\n",
       "    .dataframe tbody tr th {\n",
       "        vertical-align: top;\n",
       "    }\n",
       "\n",
       "    .dataframe thead th {\n",
       "        text-align: right;\n",
       "    }\n",
       "</style>\n",
       "<table border=\"1\" class=\"dataframe\">\n",
       "  <thead>\n",
       "    <tr style=\"text-align: right;\">\n",
       "      <th></th>\n",
       "      <th>amount_tsh</th>\n",
       "      <th>gps_height</th>\n",
       "      <th>longitude</th>\n",
       "      <th>latitude</th>\n",
       "      <th>population</th>\n",
       "      <th>construction_year</th>\n",
       "      <th>pump_age</th>\n",
       "    </tr>\n",
       "  </thead>\n",
       "  <tbody>\n",
       "    <tr>\n",
       "      <th>count</th>\n",
       "      <td>47520.000000</td>\n",
       "      <td>47520.000000</td>\n",
       "      <td>46087.000000</td>\n",
       "      <td>46087.000000</td>\n",
       "      <td>47520.000000</td>\n",
       "      <td>31017.000000</td>\n",
       "      <td>31017.000000</td>\n",
       "    </tr>\n",
       "    <tr>\n",
       "      <th>mean</th>\n",
       "      <td>322.047573</td>\n",
       "      <td>668.745370</td>\n",
       "      <td>35.151330</td>\n",
       "      <td>-5.882390</td>\n",
       "      <td>179.528283</td>\n",
       "      <td>1996.819293</td>\n",
       "      <td>15.348615</td>\n",
       "    </tr>\n",
       "    <tr>\n",
       "      <th>std</th>\n",
       "      <td>3200.623244</td>\n",
       "      <td>692.972153</td>\n",
       "      <td>2.611187</td>\n",
       "      <td>2.808937</td>\n",
       "      <td>472.772997</td>\n",
       "      <td>12.481234</td>\n",
       "      <td>12.499078</td>\n",
       "    </tr>\n",
       "    <tr>\n",
       "      <th>min</th>\n",
       "      <td>0.000000</td>\n",
       "      <td>-63.000000</td>\n",
       "      <td>29.607122</td>\n",
       "      <td>-11.649440</td>\n",
       "      <td>0.000000</td>\n",
       "      <td>1960.000000</td>\n",
       "      <td>-7.000000</td>\n",
       "    </tr>\n",
       "    <tr>\n",
       "      <th>25%</th>\n",
       "      <td>0.000000</td>\n",
       "      <td>0.000000</td>\n",
       "      <td>33.275077</td>\n",
       "      <td>-8.633477</td>\n",
       "      <td>0.000000</td>\n",
       "      <td>1987.000000</td>\n",
       "      <td>4.000000</td>\n",
       "    </tr>\n",
       "    <tr>\n",
       "      <th>50%</th>\n",
       "      <td>0.000000</td>\n",
       "      <td>370.000000</td>\n",
       "      <td>35.010620</td>\n",
       "      <td>-5.164521</td>\n",
       "      <td>25.000000</td>\n",
       "      <td>2000.000000</td>\n",
       "      <td>13.000000</td>\n",
       "    </tr>\n",
       "    <tr>\n",
       "      <th>75%</th>\n",
       "      <td>20.000000</td>\n",
       "      <td>1320.000000</td>\n",
       "      <td>37.238584</td>\n",
       "      <td>-3.372232</td>\n",
       "      <td>213.000000</td>\n",
       "      <td>2008.000000</td>\n",
       "      <td>25.000000</td>\n",
       "    </tr>\n",
       "    <tr>\n",
       "      <th>max</th>\n",
       "      <td>350000.000000</td>\n",
       "      <td>2770.000000</td>\n",
       "      <td>40.345193</td>\n",
       "      <td>-0.998464</td>\n",
       "      <td>30500.000000</td>\n",
       "      <td>2013.000000</td>\n",
       "      <td>53.000000</td>\n",
       "    </tr>\n",
       "  </tbody>\n",
       "</table>\n",
       "</div>"
      ],
      "text/plain": [
       "          amount_tsh    gps_height     longitude      latitude    population  \\\n",
       "count   47520.000000  47520.000000  46087.000000  46087.000000  47520.000000   \n",
       "mean      322.047573    668.745370     35.151330     -5.882390    179.528283   \n",
       "std      3200.623244    692.972153      2.611187      2.808937    472.772997   \n",
       "min         0.000000    -63.000000     29.607122    -11.649440      0.000000   \n",
       "25%         0.000000      0.000000     33.275077     -8.633477      0.000000   \n",
       "50%         0.000000    370.000000     35.010620     -5.164521     25.000000   \n",
       "75%        20.000000   1320.000000     37.238584     -3.372232    213.000000   \n",
       "max    350000.000000   2770.000000     40.345193     -0.998464  30500.000000   \n",
       "\n",
       "       construction_year      pump_age  \n",
       "count       31017.000000  31017.000000  \n",
       "mean         1996.819293     15.348615  \n",
       "std            12.481234     12.499078  \n",
       "min          1960.000000     -7.000000  \n",
       "25%          1987.000000      4.000000  \n",
       "50%          2000.000000     13.000000  \n",
       "75%          2008.000000     25.000000  \n",
       "max          2013.000000     53.000000  "
      ]
     },
     "execution_count": 9,
     "metadata": {},
     "output_type": "execute_result"
    }
   ],
   "source": [
    "df.describe()"
   ]
  },
  {
   "cell_type": "markdown",
   "metadata": {},
   "source": [
    "We still have many null values in our columns. To ensure that our training and testing datasets undergo the same pre-processing steps, we will impute these values in a pipeline."
   ]
  },
  {
   "cell_type": "markdown",
   "metadata": {},
   "source": [
    "# II. Split Data"
   ]
  },
  {
   "cell_type": "code",
   "execution_count": 10,
   "metadata": {},
   "outputs": [],
   "source": [
    "# Create feature matrix and target vector for training data\n",
    "target = 'status_group'\n",
    "\n",
    "y = df[target]\n",
    "X = df.drop(columns=target)"
   ]
  },
  {
   "cell_type": "code",
   "execution_count": 11,
   "metadata": {},
   "outputs": [],
   "source": [
    "# Split training data into training and validation sets\n",
    "X_train, X_val, y_train, y_val = train_test_split(X, y, test_size=0.2)\n"
   ]
  },
  {
   "cell_type": "code",
   "execution_count": 12,
   "metadata": {},
   "outputs": [
    {
     "data": {
      "text/plain": [
       "(38016, 19)"
      ]
     },
     "metadata": {},
     "output_type": "display_data"
    },
    {
     "data": {
      "text/plain": [
       "(38016,)"
      ]
     },
     "metadata": {},
     "output_type": "display_data"
    },
    {
     "data": {
      "text/plain": [
       "(9504, 19)"
      ]
     },
     "metadata": {},
     "output_type": "display_data"
    },
    {
     "data": {
      "text/plain": [
       "(9504,)"
      ]
     },
     "metadata": {},
     "output_type": "display_data"
    }
   ],
   "source": [
    "# Sanity check\n",
    "display(X_train.shape, y_train.shape, X_val.shape, y_val.shape)\n"
   ]
  },
  {
   "cell_type": "markdown",
   "metadata": {},
   "source": [
    "# III. Establish Baseline\n",
    "We will use the most-frequent class as our baseline. Our model must outperform our baseline in order for our predictions to have any merit."
   ]
  },
  {
   "cell_type": "code",
   "execution_count": 13,
   "metadata": {},
   "outputs": [
    {
     "name": "stdout",
     "output_type": "stream",
     "text": [
      "Baseline accuracy: 0.5429713804713805\n"
     ]
    }
   ],
   "source": [
    "# Baseline accuracy score\n",
    "print('Baseline accuracy:', y.value_counts(normalize=True).max())"
   ]
  },
  {
   "cell_type": "markdown",
   "metadata": {},
   "source": [
    "# IV. Build and Train Model"
   ]
  },
  {
   "cell_type": "markdown",
   "metadata": {},
   "source": [
    "### Decision Tree Classifier"
   ]
  },
  {
   "cell_type": "code",
   "execution_count": 48,
   "metadata": {},
   "outputs": [],
   "source": [
    "clf_dt = make_pipeline(\n",
    "    OrdinalEncoder(handle_unknown='use_encoded_value',\n",
    "                   unknown_value=np.nan),\n",
    "    SimpleImputer(),\n",
    "    DecisionTreeClassifier(random_state=33)\n",
    ")"
   ]
  },
  {
   "cell_type": "code",
   "execution_count": 49,
   "metadata": {},
   "outputs": [],
   "source": [
    "# Create parameter grid for cross validation\n",
    "param_dist_dt = {\n",
    "    'simpleimputer__strategy' : ['mean', 'median', 'most_frequent'],\n",
    "    'decisiontreeclassifier__max_depth' : range(10, 30, 2),\n",
    "    'decisiontreeclassifier__min_samples_split' : range(2, 11, 2)\n",
    "}"
   ]
  },
  {
   "cell_type": "code",
   "execution_count": 54,
   "metadata": {},
   "outputs": [],
   "source": [
    "# Create and cross validate models\n",
    "model_dt = RandomizedSearchCV(\n",
    "    clf_dt,\n",
    "    param_distributions=param_dist_dt,\n",
    "    error_score='raise',\n",
    "    n_jobs=-1,\n",
    "    cv=5,\n",
    "    verbose=1\n",
    ")"
   ]
  },
  {
   "cell_type": "code",
   "execution_count": 55,
   "metadata": {},
   "outputs": [
    {
     "name": "stdout",
     "output_type": "stream",
     "text": [
      "Fitting 5 folds for each of 10 candidates, totalling 50 fits\n"
     ]
    },
    {
     "data": {
      "text/html": [
       "<style>#sk-container-id-3 {color: black;background-color: white;}#sk-container-id-3 pre{padding: 0;}#sk-container-id-3 div.sk-toggleable {background-color: white;}#sk-container-id-3 label.sk-toggleable__label {cursor: pointer;display: block;width: 100%;margin-bottom: 0;padding: 0.3em;box-sizing: border-box;text-align: center;}#sk-container-id-3 label.sk-toggleable__label-arrow:before {content: \"▸\";float: left;margin-right: 0.25em;color: #696969;}#sk-container-id-3 label.sk-toggleable__label-arrow:hover:before {color: black;}#sk-container-id-3 div.sk-estimator:hover label.sk-toggleable__label-arrow:before {color: black;}#sk-container-id-3 div.sk-toggleable__content {max-height: 0;max-width: 0;overflow: hidden;text-align: left;background-color: #f0f8ff;}#sk-container-id-3 div.sk-toggleable__content pre {margin: 0.2em;color: black;border-radius: 0.25em;background-color: #f0f8ff;}#sk-container-id-3 input.sk-toggleable__control:checked~div.sk-toggleable__content {max-height: 200px;max-width: 100%;overflow: auto;}#sk-container-id-3 input.sk-toggleable__control:checked~label.sk-toggleable__label-arrow:before {content: \"▾\";}#sk-container-id-3 div.sk-estimator input.sk-toggleable__control:checked~label.sk-toggleable__label {background-color: #d4ebff;}#sk-container-id-3 div.sk-label input.sk-toggleable__control:checked~label.sk-toggleable__label {background-color: #d4ebff;}#sk-container-id-3 input.sk-hidden--visually {border: 0;clip: rect(1px 1px 1px 1px);clip: rect(1px, 1px, 1px, 1px);height: 1px;margin: -1px;overflow: hidden;padding: 0;position: absolute;width: 1px;}#sk-container-id-3 div.sk-estimator {font-family: monospace;background-color: #f0f8ff;border: 1px dotted black;border-radius: 0.25em;box-sizing: border-box;margin-bottom: 0.5em;}#sk-container-id-3 div.sk-estimator:hover {background-color: #d4ebff;}#sk-container-id-3 div.sk-parallel-item::after {content: \"\";width: 100%;border-bottom: 1px solid gray;flex-grow: 1;}#sk-container-id-3 div.sk-label:hover label.sk-toggleable__label {background-color: #d4ebff;}#sk-container-id-3 div.sk-serial::before {content: \"\";position: absolute;border-left: 1px solid gray;box-sizing: border-box;top: 0;bottom: 0;left: 50%;z-index: 0;}#sk-container-id-3 div.sk-serial {display: flex;flex-direction: column;align-items: center;background-color: white;padding-right: 0.2em;padding-left: 0.2em;position: relative;}#sk-container-id-3 div.sk-item {position: relative;z-index: 1;}#sk-container-id-3 div.sk-parallel {display: flex;align-items: stretch;justify-content: center;background-color: white;position: relative;}#sk-container-id-3 div.sk-item::before, #sk-container-id-3 div.sk-parallel-item::before {content: \"\";position: absolute;border-left: 1px solid gray;box-sizing: border-box;top: 0;bottom: 0;left: 50%;z-index: -1;}#sk-container-id-3 div.sk-parallel-item {display: flex;flex-direction: column;z-index: 1;position: relative;background-color: white;}#sk-container-id-3 div.sk-parallel-item:first-child::after {align-self: flex-end;width: 50%;}#sk-container-id-3 div.sk-parallel-item:last-child::after {align-self: flex-start;width: 50%;}#sk-container-id-3 div.sk-parallel-item:only-child::after {width: 0;}#sk-container-id-3 div.sk-dashed-wrapped {border: 1px dashed gray;margin: 0 0.4em 0.5em 0.4em;box-sizing: border-box;padding-bottom: 0.4em;background-color: white;}#sk-container-id-3 div.sk-label label {font-family: monospace;font-weight: bold;display: inline-block;line-height: 1.2em;}#sk-container-id-3 div.sk-label-container {text-align: center;}#sk-container-id-3 div.sk-container {/* jupyter's `normalize.less` sets `[hidden] { display: none; }` but bootstrap.min.css set `[hidden] { display: none !important; }` so we also need the `!important` here to be able to override the default hidden behavior on the sphinx rendered scikit-learn.org. See: https://github.com/scikit-learn/scikit-learn/issues/21755 */display: inline-block !important;position: relative;}#sk-container-id-3 div.sk-text-repr-fallback {display: none;}</style><div id=\"sk-container-id-3\" class=\"sk-top-container\"><div class=\"sk-text-repr-fallback\"><pre>RandomizedSearchCV(cv=5, error_score=&#x27;raise&#x27;,\n",
       "                   estimator=Pipeline(steps=[(&#x27;ordinalencoder&#x27;,\n",
       "                                              OrdinalEncoder(handle_unknown=&#x27;use_encoded_value&#x27;,\n",
       "                                                             unknown_value=nan)),\n",
       "                                             (&#x27;simpleimputer&#x27;, SimpleImputer()),\n",
       "                                             (&#x27;decisiontreeclassifier&#x27;,\n",
       "                                              DecisionTreeClassifier(random_state=33))]),\n",
       "                   n_jobs=-1,\n",
       "                   param_distributions={&#x27;decisiontreeclassifier__max_depth&#x27;: range(10, 30, 2),\n",
       "                                        &#x27;decisiontreeclassifier__min_samples_split&#x27;: range(2, 11, 2),\n",
       "                                        &#x27;simpleimputer__strategy&#x27;: [&#x27;mean&#x27;,\n",
       "                                                                    &#x27;median&#x27;,\n",
       "                                                                    &#x27;most_frequent&#x27;]},\n",
       "                   verbose=1)</pre><b>In a Jupyter environment, please rerun this cell to show the HTML representation or trust the notebook. <br />On GitHub, the HTML representation is unable to render, please try loading this page with nbviewer.org.</b></div><div class=\"sk-container\" hidden><div class=\"sk-item sk-dashed-wrapped\"><div class=\"sk-label-container\"><div class=\"sk-label sk-toggleable\"><input class=\"sk-toggleable__control sk-hidden--visually\" id=\"sk-estimator-id-10\" type=\"checkbox\" ><label for=\"sk-estimator-id-10\" class=\"sk-toggleable__label sk-toggleable__label-arrow\">RandomizedSearchCV</label><div class=\"sk-toggleable__content\"><pre>RandomizedSearchCV(cv=5, error_score=&#x27;raise&#x27;,\n",
       "                   estimator=Pipeline(steps=[(&#x27;ordinalencoder&#x27;,\n",
       "                                              OrdinalEncoder(handle_unknown=&#x27;use_encoded_value&#x27;,\n",
       "                                                             unknown_value=nan)),\n",
       "                                             (&#x27;simpleimputer&#x27;, SimpleImputer()),\n",
       "                                             (&#x27;decisiontreeclassifier&#x27;,\n",
       "                                              DecisionTreeClassifier(random_state=33))]),\n",
       "                   n_jobs=-1,\n",
       "                   param_distributions={&#x27;decisiontreeclassifier__max_depth&#x27;: range(10, 30, 2),\n",
       "                                        &#x27;decisiontreeclassifier__min_samples_split&#x27;: range(2, 11, 2),\n",
       "                                        &#x27;simpleimputer__strategy&#x27;: [&#x27;mean&#x27;,\n",
       "                                                                    &#x27;median&#x27;,\n",
       "                                                                    &#x27;most_frequent&#x27;]},\n",
       "                   verbose=1)</pre></div></div></div><div class=\"sk-parallel\"><div class=\"sk-parallel-item\"><div class=\"sk-item\"><div class=\"sk-label-container\"><div class=\"sk-label sk-toggleable\"><input class=\"sk-toggleable__control sk-hidden--visually\" id=\"sk-estimator-id-11\" type=\"checkbox\" ><label for=\"sk-estimator-id-11\" class=\"sk-toggleable__label sk-toggleable__label-arrow\">estimator: Pipeline</label><div class=\"sk-toggleable__content\"><pre>Pipeline(steps=[(&#x27;ordinalencoder&#x27;,\n",
       "                 OrdinalEncoder(handle_unknown=&#x27;use_encoded_value&#x27;,\n",
       "                                unknown_value=nan)),\n",
       "                (&#x27;simpleimputer&#x27;, SimpleImputer()),\n",
       "                (&#x27;decisiontreeclassifier&#x27;,\n",
       "                 DecisionTreeClassifier(random_state=33))])</pre></div></div></div><div class=\"sk-serial\"><div class=\"sk-item\"><div class=\"sk-serial\"><div class=\"sk-item\"><div class=\"sk-estimator sk-toggleable\"><input class=\"sk-toggleable__control sk-hidden--visually\" id=\"sk-estimator-id-12\" type=\"checkbox\" ><label for=\"sk-estimator-id-12\" class=\"sk-toggleable__label sk-toggleable__label-arrow\">OrdinalEncoder</label><div class=\"sk-toggleable__content\"><pre>OrdinalEncoder(handle_unknown=&#x27;use_encoded_value&#x27;, unknown_value=nan)</pre></div></div></div><div class=\"sk-item\"><div class=\"sk-estimator sk-toggleable\"><input class=\"sk-toggleable__control sk-hidden--visually\" id=\"sk-estimator-id-13\" type=\"checkbox\" ><label for=\"sk-estimator-id-13\" class=\"sk-toggleable__label sk-toggleable__label-arrow\">SimpleImputer</label><div class=\"sk-toggleable__content\"><pre>SimpleImputer()</pre></div></div></div><div class=\"sk-item\"><div class=\"sk-estimator sk-toggleable\"><input class=\"sk-toggleable__control sk-hidden--visually\" id=\"sk-estimator-id-14\" type=\"checkbox\" ><label for=\"sk-estimator-id-14\" class=\"sk-toggleable__label sk-toggleable__label-arrow\">DecisionTreeClassifier</label><div class=\"sk-toggleable__content\"><pre>DecisionTreeClassifier(random_state=33)</pre></div></div></div></div></div></div></div></div></div></div></div></div>"
      ],
      "text/plain": [
       "RandomizedSearchCV(cv=5, error_score='raise',\n",
       "                   estimator=Pipeline(steps=[('ordinalencoder',\n",
       "                                              OrdinalEncoder(handle_unknown='use_encoded_value',\n",
       "                                                             unknown_value=nan)),\n",
       "                                             ('simpleimputer', SimpleImputer()),\n",
       "                                             ('decisiontreeclassifier',\n",
       "                                              DecisionTreeClassifier(random_state=33))]),\n",
       "                   n_jobs=-1,\n",
       "                   param_distributions={'decisiontreeclassifier__max_depth': range(10, 30, 2),\n",
       "                                        'decisiontreeclassifier__min_samples_split': range(2, 11, 2),\n",
       "                                        'simpleimputer__strategy': ['mean',\n",
       "                                                                    'median',\n",
       "                                                                    'most_frequent']},\n",
       "                   verbose=1)"
      ]
     },
     "execution_count": 55,
     "metadata": {},
     "output_type": "execute_result"
    }
   ],
   "source": [
    "# Fit model\n",
    "model_dt.fit(X_train, y_train)"
   ]
  },
  {
   "cell_type": "code",
   "execution_count": 56,
   "metadata": {},
   "outputs": [
    {
     "name": "stdout",
     "output_type": "stream",
     "text": [
      "Decision Tree Accuracy: 0.7073071394130462\n",
      "Decision Tree Parameters: {'simpleimputer__strategy': 'mean', 'decisiontreeclassifier__min_samples_split': 8, 'decisiontreeclassifier__max_depth': 10}\n"
     ]
    }
   ],
   "source": [
    "print(f\"Decision Tree Accuracy: {model_dt.best_score_}\")\n",
    "print(f\"Decision Tree Parameters: {model_dt.best_params_}\")"
   ]
  },
  {
   "cell_type": "markdown",
   "metadata": {},
   "source": [
    "### Random Forest Classifier"
   ]
  },
  {
   "cell_type": "code",
   "execution_count": 36,
   "metadata": {},
   "outputs": [],
   "source": [
    "# Create pipeline for pre-processing data\n",
    "clf_rf = make_pipeline(\n",
    "    OrdinalEncoder(),\n",
    "    SimpleImputer(),\n",
    "    RandomForestClassifier(n_jobs=-1, random_state=33)\n",
    ")"
   ]
  },
  {
   "cell_type": "markdown",
   "metadata": {},
   "source": [
    "# V. Check Evaluation Metrics\n",
    "\n",
    "Compare with baseline"
   ]
  },
  {
   "cell_type": "markdown",
   "metadata": {},
   "source": [
    "### Decision Tree Classifier"
   ]
  },
  {
   "cell_type": "code",
   "execution_count": null,
   "metadata": {},
   "outputs": [
    {
     "name": "stderr",
     "output_type": "stream",
     "text": [
      "/Users/erincostolo/Documents/Unit_2_Kaggle_Challenge/U2-ML/lib/python3.8/site-packages/sklearn/model_selection/_validation.py:776: UserWarning: Scoring failed. The score on this train-test partition for these parameters will be set to nan. Details: \n",
      "Traceback (most recent call last):\n",
      "  File \"/Users/erincostolo/Documents/Unit_2_Kaggle_Challenge/U2-ML/lib/python3.8/site-packages/sklearn/model_selection/_validation.py\", line 767, in _score\n",
      "    scores = scorer(estimator, X_test, y_test)\n",
      "  File \"/Users/erincostolo/Documents/Unit_2_Kaggle_Challenge/U2-ML/lib/python3.8/site-packages/sklearn/metrics/_scorer.py\", line 108, in __call__\n",
      "    score = scorer(estimator, *args, **kwargs)\n",
      "  File \"/Users/erincostolo/Documents/Unit_2_Kaggle_Challenge/U2-ML/lib/python3.8/site-packages/sklearn/metrics/_scorer.py\", line 429, in _passthrough_scorer\n",
      "    return estimator.score(*args, **kwargs)\n",
      "  File \"/Users/erincostolo/Documents/Unit_2_Kaggle_Challenge/U2-ML/lib/python3.8/site-packages/sklearn/pipeline.py\", line 695, in score\n",
      "    Xt = transform.transform(Xt)\n",
      "  File \"/Users/erincostolo/Documents/Unit_2_Kaggle_Challenge/U2-ML/lib/python3.8/site-packages/sklearn/preprocessing/_encoders.py\", line 1363, in transform\n",
      "    X_int, X_mask = self._transform(\n",
      "  File \"/Users/erincostolo/Documents/Unit_2_Kaggle_Challenge/U2-ML/lib/python3.8/site-packages/sklearn/preprocessing/_encoders.py\", line 160, in _transform\n",
      "    raise ValueError(msg)\n",
      "ValueError: Found unknown categories [0.2, 0.25, 12.0, 5400.0, 11000.0, 70000.0, 250000.0] in column 0 during transform\n",
      "\n",
      "  warnings.warn(\n",
      "/Users/erincostolo/Documents/Unit_2_Kaggle_Challenge/U2-ML/lib/python3.8/site-packages/sklearn/model_selection/_validation.py:776: UserWarning: Scoring failed. The score on this train-test partition for these parameters will be set to nan. Details: \n",
      "Traceback (most recent call last):\n",
      "  File \"/Users/erincostolo/Documents/Unit_2_Kaggle_Challenge/U2-ML/lib/python3.8/site-packages/sklearn/model_selection/_validation.py\", line 767, in _score\n",
      "    scores = scorer(estimator, X_test, y_test)\n",
      "  File \"/Users/erincostolo/Documents/Unit_2_Kaggle_Challenge/U2-ML/lib/python3.8/site-packages/sklearn/metrics/_scorer.py\", line 108, in __call__\n",
      "    score = scorer(estimator, *args, **kwargs)\n",
      "  File \"/Users/erincostolo/Documents/Unit_2_Kaggle_Challenge/U2-ML/lib/python3.8/site-packages/sklearn/metrics/_scorer.py\", line 429, in _passthrough_scorer\n",
      "    return estimator.score(*args, **kwargs)\n",
      "  File \"/Users/erincostolo/Documents/Unit_2_Kaggle_Challenge/U2-ML/lib/python3.8/site-packages/sklearn/pipeline.py\", line 695, in score\n",
      "    Xt = transform.transform(Xt)\n",
      "  File \"/Users/erincostolo/Documents/Unit_2_Kaggle_Challenge/U2-ML/lib/python3.8/site-packages/sklearn/preprocessing/_encoders.py\", line 1363, in transform\n",
      "    X_int, X_mask = self._transform(\n",
      "  File \"/Users/erincostolo/Documents/Unit_2_Kaggle_Challenge/U2-ML/lib/python3.8/site-packages/sklearn/preprocessing/_encoders.py\", line 160, in _transform\n",
      "    raise ValueError(msg)\n",
      "ValueError: Found unknown categories [220.0, 4500.0, 13000.0, 16300.0, 40000.0, 60000.0, 120000.0] in column 0 during transform\n",
      "\n",
      "  warnings.warn(\n",
      "/Users/erincostolo/Documents/Unit_2_Kaggle_Challenge/U2-ML/lib/python3.8/site-packages/sklearn/model_selection/_validation.py:776: UserWarning: Scoring failed. The score on this train-test partition for these parameters will be set to nan. Details: \n",
      "Traceback (most recent call last):\n",
      "  File \"/Users/erincostolo/Documents/Unit_2_Kaggle_Challenge/U2-ML/lib/python3.8/site-packages/sklearn/model_selection/_validation.py\", line 767, in _score\n",
      "    scores = scorer(estimator, X_test, y_test)\n",
      "  File \"/Users/erincostolo/Documents/Unit_2_Kaggle_Challenge/U2-ML/lib/python3.8/site-packages/sklearn/metrics/_scorer.py\", line 108, in __call__\n",
      "    score = scorer(estimator, *args, **kwargs)\n",
      "  File \"/Users/erincostolo/Documents/Unit_2_Kaggle_Challenge/U2-ML/lib/python3.8/site-packages/sklearn/metrics/_scorer.py\", line 429, in _passthrough_scorer\n",
      "    return estimator.score(*args, **kwargs)\n",
      "  File \"/Users/erincostolo/Documents/Unit_2_Kaggle_Challenge/U2-ML/lib/python3.8/site-packages/sklearn/pipeline.py\", line 695, in score\n",
      "    Xt = transform.transform(Xt)\n",
      "  File \"/Users/erincostolo/Documents/Unit_2_Kaggle_Challenge/U2-ML/lib/python3.8/site-packages/sklearn/preprocessing/_encoders.py\", line 1363, in transform\n",
      "    X_int, X_mask = self._transform(\n",
      "  File \"/Users/erincostolo/Documents/Unit_2_Kaggle_Challenge/U2-ML/lib/python3.8/site-packages/sklearn/preprocessing/_encoders.py\", line 160, in _transform\n",
      "    raise ValueError(msg)\n",
      "ValueError: Found unknown categories [59.0, 350000.0] in column 0 during transform\n",
      "\n",
      "  warnings.warn(\n",
      "/Users/erincostolo/Documents/Unit_2_Kaggle_Challenge/U2-ML/lib/python3.8/site-packages/sklearn/model_selection/_validation.py:776: UserWarning: Scoring failed. The score on this train-test partition for these parameters will be set to nan. Details: \n",
      "Traceback (most recent call last):\n",
      "  File \"/Users/erincostolo/Documents/Unit_2_Kaggle_Challenge/U2-ML/lib/python3.8/site-packages/sklearn/model_selection/_validation.py\", line 767, in _score\n",
      "    scores = scorer(estimator, X_test, y_test)\n",
      "  File \"/Users/erincostolo/Documents/Unit_2_Kaggle_Challenge/U2-ML/lib/python3.8/site-packages/sklearn/metrics/_scorer.py\", line 108, in __call__\n",
      "    score = scorer(estimator, *args, **kwargs)\n",
      "  File \"/Users/erincostolo/Documents/Unit_2_Kaggle_Challenge/U2-ML/lib/python3.8/site-packages/sklearn/metrics/_scorer.py\", line 429, in _passthrough_scorer\n",
      "    return estimator.score(*args, **kwargs)\n",
      "  File \"/Users/erincostolo/Documents/Unit_2_Kaggle_Challenge/U2-ML/lib/python3.8/site-packages/sklearn/pipeline.py\", line 695, in score\n",
      "    Xt = transform.transform(Xt)\n",
      "  File \"/Users/erincostolo/Documents/Unit_2_Kaggle_Challenge/U2-ML/lib/python3.8/site-packages/sklearn/preprocessing/_encoders.py\", line 1363, in transform\n",
      "    X_int, X_mask = self._transform(\n",
      "  File \"/Users/erincostolo/Documents/Unit_2_Kaggle_Challenge/U2-ML/lib/python3.8/site-packages/sklearn/preprocessing/_encoders.py\", line 160, in _transform\n",
      "    raise ValueError(msg)\n",
      "ValueError: Found unknown categories [26.0, 53.0, 306.0, 590.0, 8500.0, 26000.0, 45000.0, 200000.0] in column 0 during transform\n",
      "\n",
      "  warnings.warn(\n",
      "/Users/erincostolo/Documents/Unit_2_Kaggle_Challenge/U2-ML/lib/python3.8/site-packages/sklearn/model_selection/_validation.py:776: UserWarning: Scoring failed. The score on this train-test partition for these parameters will be set to nan. Details: \n",
      "Traceback (most recent call last):\n",
      "  File \"/Users/erincostolo/Documents/Unit_2_Kaggle_Challenge/U2-ML/lib/python3.8/site-packages/sklearn/model_selection/_validation.py\", line 767, in _score\n",
      "    scores = scorer(estimator, X_test, y_test)\n",
      "  File \"/Users/erincostolo/Documents/Unit_2_Kaggle_Challenge/U2-ML/lib/python3.8/site-packages/sklearn/metrics/_scorer.py\", line 108, in __call__\n",
      "    score = scorer(estimator, *args, **kwargs)\n",
      "  File \"/Users/erincostolo/Documents/Unit_2_Kaggle_Challenge/U2-ML/lib/python3.8/site-packages/sklearn/metrics/_scorer.py\", line 429, in _passthrough_scorer\n",
      "    return estimator.score(*args, **kwargs)\n",
      "  File \"/Users/erincostolo/Documents/Unit_2_Kaggle_Challenge/U2-ML/lib/python3.8/site-packages/sklearn/pipeline.py\", line 695, in score\n",
      "    Xt = transform.transform(Xt)\n",
      "  File \"/Users/erincostolo/Documents/Unit_2_Kaggle_Challenge/U2-ML/lib/python3.8/site-packages/sklearn/preprocessing/_encoders.py\", line 1363, in transform\n",
      "    X_int, X_mask = self._transform(\n",
      "  File \"/Users/erincostolo/Documents/Unit_2_Kaggle_Challenge/U2-ML/lib/python3.8/site-packages/sklearn/preprocessing/_encoders.py\", line 160, in _transform\n",
      "    raise ValueError(msg)\n",
      "ValueError: Found unknown categories [900.0, 6300.0] in column 0 during transform\n",
      "\n",
      "  warnings.warn(\n",
      "/Users/erincostolo/Documents/Unit_2_Kaggle_Challenge/U2-ML/lib/python3.8/site-packages/sklearn/model_selection/_validation.py:776: UserWarning: Scoring failed. The score on this train-test partition for these parameters will be set to nan. Details: \n",
      "Traceback (most recent call last):\n",
      "  File \"/Users/erincostolo/Documents/Unit_2_Kaggle_Challenge/U2-ML/lib/python3.8/site-packages/sklearn/model_selection/_validation.py\", line 767, in _score\n",
      "    scores = scorer(estimator, X_test, y_test)\n",
      "  File \"/Users/erincostolo/Documents/Unit_2_Kaggle_Challenge/U2-ML/lib/python3.8/site-packages/sklearn/metrics/_scorer.py\", line 108, in __call__\n",
      "    score = scorer(estimator, *args, **kwargs)\n",
      "  File \"/Users/erincostolo/Documents/Unit_2_Kaggle_Challenge/U2-ML/lib/python3.8/site-packages/sklearn/metrics/_scorer.py\", line 429, in _passthrough_scorer\n",
      "    return estimator.score(*args, **kwargs)\n",
      "  File \"/Users/erincostolo/Documents/Unit_2_Kaggle_Challenge/U2-ML/lib/python3.8/site-packages/sklearn/pipeline.py\", line 695, in score\n",
      "    Xt = transform.transform(Xt)\n",
      "  File \"/Users/erincostolo/Documents/Unit_2_Kaggle_Challenge/U2-ML/lib/python3.8/site-packages/sklearn/preprocessing/_encoders.py\", line 1363, in transform\n",
      "    X_int, X_mask = self._transform(\n",
      "  File \"/Users/erincostolo/Documents/Unit_2_Kaggle_Challenge/U2-ML/lib/python3.8/site-packages/sklearn/preprocessing/_encoders.py\", line 160, in _transform\n",
      "    raise ValueError(msg)\n",
      "ValueError: Found unknown categories [900.0, 6300.0] in column 0 during transform\n",
      "\n",
      "  warnings.warn(\n",
      "/Users/erincostolo/Documents/Unit_2_Kaggle_Challenge/U2-ML/lib/python3.8/site-packages/sklearn/model_selection/_validation.py:776: UserWarning: Scoring failed. The score on this train-test partition for these parameters will be set to nan. Details: \n",
      "Traceback (most recent call last):\n",
      "  File \"/Users/erincostolo/Documents/Unit_2_Kaggle_Challenge/U2-ML/lib/python3.8/site-packages/sklearn/model_selection/_validation.py\", line 767, in _score\n",
      "    scores = scorer(estimator, X_test, y_test)\n",
      "  File \"/Users/erincostolo/Documents/Unit_2_Kaggle_Challenge/U2-ML/lib/python3.8/site-packages/sklearn/metrics/_scorer.py\", line 108, in __call__\n",
      "    score = scorer(estimator, *args, **kwargs)\n",
      "  File \"/Users/erincostolo/Documents/Unit_2_Kaggle_Challenge/U2-ML/lib/python3.8/site-packages/sklearn/metrics/_scorer.py\", line 429, in _passthrough_scorer\n",
      "    return estimator.score(*args, **kwargs)\n",
      "  File \"/Users/erincostolo/Documents/Unit_2_Kaggle_Challenge/U2-ML/lib/python3.8/site-packages/sklearn/pipeline.py\", line 695, in score\n",
      "    Xt = transform.transform(Xt)\n",
      "  File \"/Users/erincostolo/Documents/Unit_2_Kaggle_Challenge/U2-ML/lib/python3.8/site-packages/sklearn/preprocessing/_encoders.py\", line 1363, in transform\n",
      "    X_int, X_mask = self._transform(\n",
      "  File \"/Users/erincostolo/Documents/Unit_2_Kaggle_Challenge/U2-ML/lib/python3.8/site-packages/sklearn/preprocessing/_encoders.py\", line 160, in _transform\n",
      "    raise ValueError(msg)\n",
      "ValueError: Found unknown categories [0.2, 0.25, 12.0, 5400.0, 11000.0, 70000.0, 250000.0] in column 0 during transform\n",
      "\n",
      "  warnings.warn(\n",
      "/Users/erincostolo/Documents/Unit_2_Kaggle_Challenge/U2-ML/lib/python3.8/site-packages/sklearn/model_selection/_validation.py:776: UserWarning: Scoring failed. The score on this train-test partition for these parameters will be set to nan. Details: \n",
      "Traceback (most recent call last):\n",
      "  File \"/Users/erincostolo/Documents/Unit_2_Kaggle_Challenge/U2-ML/lib/python3.8/site-packages/sklearn/model_selection/_validation.py\", line 767, in _score\n",
      "    scores = scorer(estimator, X_test, y_test)\n",
      "  File \"/Users/erincostolo/Documents/Unit_2_Kaggle_Challenge/U2-ML/lib/python3.8/site-packages/sklearn/metrics/_scorer.py\", line 108, in __call__\n",
      "    score = scorer(estimator, *args, **kwargs)\n",
      "  File \"/Users/erincostolo/Documents/Unit_2_Kaggle_Challenge/U2-ML/lib/python3.8/site-packages/sklearn/metrics/_scorer.py\", line 429, in _passthrough_scorer\n",
      "    return estimator.score(*args, **kwargs)\n",
      "  File \"/Users/erincostolo/Documents/Unit_2_Kaggle_Challenge/U2-ML/lib/python3.8/site-packages/sklearn/pipeline.py\", line 695, in score\n",
      "    Xt = transform.transform(Xt)\n",
      "  File \"/Users/erincostolo/Documents/Unit_2_Kaggle_Challenge/U2-ML/lib/python3.8/site-packages/sklearn/preprocessing/_encoders.py\", line 1363, in transform\n",
      "    X_int, X_mask = self._transform(\n",
      "  File \"/Users/erincostolo/Documents/Unit_2_Kaggle_Challenge/U2-ML/lib/python3.8/site-packages/sklearn/preprocessing/_encoders.py\", line 160, in _transform\n",
      "    raise ValueError(msg)\n",
      "ValueError: Found unknown categories [26.0, 53.0, 306.0, 590.0, 8500.0, 26000.0, 45000.0, 200000.0] in column 0 during transform\n",
      "\n",
      "  warnings.warn(\n",
      "/Users/erincostolo/Documents/Unit_2_Kaggle_Challenge/U2-ML/lib/python3.8/site-packages/sklearn/model_selection/_validation.py:776: UserWarning: Scoring failed. The score on this train-test partition for these parameters will be set to nan. Details: \n",
      "Traceback (most recent call last):\n",
      "  File \"/Users/erincostolo/Documents/Unit_2_Kaggle_Challenge/U2-ML/lib/python3.8/site-packages/sklearn/model_selection/_validation.py\", line 767, in _score\n",
      "    scores = scorer(estimator, X_test, y_test)\n",
      "  File \"/Users/erincostolo/Documents/Unit_2_Kaggle_Challenge/U2-ML/lib/python3.8/site-packages/sklearn/metrics/_scorer.py\", line 108, in __call__\n",
      "    score = scorer(estimator, *args, **kwargs)\n",
      "  File \"/Users/erincostolo/Documents/Unit_2_Kaggle_Challenge/U2-ML/lib/python3.8/site-packages/sklearn/metrics/_scorer.py\", line 429, in _passthrough_scorer\n",
      "    return estimator.score(*args, **kwargs)\n",
      "  File \"/Users/erincostolo/Documents/Unit_2_Kaggle_Challenge/U2-ML/lib/python3.8/site-packages/sklearn/pipeline.py\", line 695, in score\n",
      "    Xt = transform.transform(Xt)\n",
      "  File \"/Users/erincostolo/Documents/Unit_2_Kaggle_Challenge/U2-ML/lib/python3.8/site-packages/sklearn/preprocessing/_encoders.py\", line 1363, in transform\n",
      "    X_int, X_mask = self._transform(\n",
      "  File \"/Users/erincostolo/Documents/Unit_2_Kaggle_Challenge/U2-ML/lib/python3.8/site-packages/sklearn/preprocessing/_encoders.py\", line 160, in _transform\n",
      "    raise ValueError(msg)\n",
      "ValueError: Found unknown categories [59.0, 350000.0] in column 0 during transform\n",
      "\n",
      "  warnings.warn(\n",
      "/Users/erincostolo/Documents/Unit_2_Kaggle_Challenge/U2-ML/lib/python3.8/site-packages/sklearn/model_selection/_validation.py:776: UserWarning: Scoring failed. The score on this train-test partition for these parameters will be set to nan. Details: \n",
      "Traceback (most recent call last):\n",
      "  File \"/Users/erincostolo/Documents/Unit_2_Kaggle_Challenge/U2-ML/lib/python3.8/site-packages/sklearn/model_selection/_validation.py\", line 767, in _score\n",
      "    scores = scorer(estimator, X_test, y_test)\n",
      "  File \"/Users/erincostolo/Documents/Unit_2_Kaggle_Challenge/U2-ML/lib/python3.8/site-packages/sklearn/metrics/_scorer.py\", line 108, in __call__\n",
      "    score = scorer(estimator, *args, **kwargs)\n",
      "  File \"/Users/erincostolo/Documents/Unit_2_Kaggle_Challenge/U2-ML/lib/python3.8/site-packages/sklearn/metrics/_scorer.py\", line 429, in _passthrough_scorer\n",
      "    return estimator.score(*args, **kwargs)\n",
      "  File \"/Users/erincostolo/Documents/Unit_2_Kaggle_Challenge/U2-ML/lib/python3.8/site-packages/sklearn/pipeline.py\", line 695, in score\n",
      "    Xt = transform.transform(Xt)\n",
      "  File \"/Users/erincostolo/Documents/Unit_2_Kaggle_Challenge/U2-ML/lib/python3.8/site-packages/sklearn/preprocessing/_encoders.py\", line 1363, in transform\n",
      "    X_int, X_mask = self._transform(\n",
      "  File \"/Users/erincostolo/Documents/Unit_2_Kaggle_Challenge/U2-ML/lib/python3.8/site-packages/sklearn/preprocessing/_encoders.py\", line 160, in _transform\n",
      "    raise ValueError(msg)\n",
      "ValueError: Found unknown categories [220.0, 4500.0, 13000.0, 16300.0, 40000.0, 60000.0, 120000.0] in column 0 during transform\n",
      "\n",
      "  warnings.warn(\n"
     ]
    }
   ],
   "source": [
    "cv_scores_dt = cross_val_score(clf_dt, X_train, y_train, cv=5, n_jobs=-1)\n",
    "cv_scores_rf = cross_val_score(clf_rf, X_train, y_train, cv=5, n_jobs=-1)"
   ]
  },
  {
   "cell_type": "markdown",
   "metadata": {},
   "source": [
    "### Random Forest Classifier"
   ]
  },
  {
   "cell_type": "markdown",
   "metadata": {},
   "source": [
    "# VI. Tune Model\n"
   ]
  },
  {
   "cell_type": "markdown",
   "metadata": {},
   "source": [
    "# VII. Communicate Results"
   ]
  },
  {
   "cell_type": "markdown",
   "metadata": {},
   "source": []
  },
  {
   "cell_type": "markdown",
   "metadata": {},
   "source": []
  }
 ],
 "metadata": {
  "kernelspec": {
   "display_name": "Python 3.8.10 ('U2-ML': venv)",
   "language": "python",
   "name": "python3"
  },
  "language_info": {
   "codemirror_mode": {
    "name": "ipython",
    "version": 3
   },
   "file_extension": ".py",
   "mimetype": "text/x-python",
   "name": "python",
   "nbconvert_exporter": "python",
   "pygments_lexer": "ipython3",
   "version": "3.8.10"
  },
  "orig_nbformat": 4,
  "vscode": {
   "interpreter": {
    "hash": "f0465ebcb37716cb48e7502240deaccee8cfa6fc7eb7ef0195569c351e696f5d"
   }
  }
 },
 "nbformat": 4,
 "nbformat_minor": 2
}
